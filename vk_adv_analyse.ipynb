{
 "cells": [
  {
   "cell_type": "code",
   "execution_count": 1,
   "metadata": {},
   "outputs": [
    {
     "name": "stdout",
     "output_type": "stream",
     "text": [
      "Requirement already up-to-date: plotly in c:\\anaconda\\lib\\site-packages (3.9.0)\n",
      "Requirement already satisfied, skipping upgrade: pytz in c:\\anaconda\\lib\\site-packages (from plotly) (2018.9)\n",
      "Requirement already satisfied, skipping upgrade: requests in c:\\anaconda\\lib\\site-packages (from plotly) (2.21.0)\n",
      "Requirement already satisfied, skipping upgrade: decorator>=4.0.6 in c:\\anaconda\\lib\\site-packages (from plotly) (4.3.0)\n",
      "Requirement already satisfied, skipping upgrade: nbformat>=4.2 in c:\\anaconda\\lib\\site-packages (from plotly) (4.4.0)\n",
      "Requirement already satisfied, skipping upgrade: retrying>=1.3.3 in c:\\anaconda\\lib\\site-packages (from plotly) (1.3.3)\n",
      "Requirement already satisfied, skipping upgrade: six in c:\\anaconda\\lib\\site-packages (from plotly) (1.12.0)\n",
      "Requirement already satisfied, skipping upgrade: certifi>=2017.4.17 in c:\\anaconda\\lib\\site-packages (from requests->plotly) (2019.3.9)\n",
      "Requirement already satisfied, skipping upgrade: urllib3<1.25,>=1.21.1 in c:\\anaconda\\lib\\site-packages (from requests->plotly) (1.24.1)\n",
      "Requirement already satisfied, skipping upgrade: idna<2.9,>=2.5 in c:\\anaconda\\lib\\site-packages (from requests->plotly) (2.8)\n",
      "Requirement already satisfied, skipping upgrade: chardet<3.1.0,>=3.0.2 in c:\\anaconda\\lib\\site-packages (from requests->plotly) (3.0.4)\n",
      "Requirement already satisfied, skipping upgrade: ipython_genutils in c:\\anaconda\\lib\\site-packages (from nbformat>=4.2->plotly) (0.2.0)\n",
      "Requirement already satisfied, skipping upgrade: traitlets>=4.1 in c:\\anaconda\\lib\\site-packages (from nbformat>=4.2->plotly) (4.3.2)\n",
      "Requirement already satisfied, skipping upgrade: jsonschema!=2.5.0,>=2.4 in c:\\anaconda\\lib\\site-packages (from nbformat>=4.2->plotly) (2.6.0)\n",
      "Requirement already satisfied, skipping upgrade: jupyter_core in c:\\anaconda\\lib\\site-packages (from nbformat>=4.2->plotly) (4.4.0)\n"
     ]
    }
   ],
   "source": [
    "!pip install plotly --upgrade"
   ]
  },
  {
   "cell_type": "code",
   "execution_count": 2,
   "metadata": {},
   "outputs": [
    {
     "name": "stderr",
     "output_type": "stream",
     "text": [
      "Using TensorFlow backend.\n"
     ]
    }
   ],
   "source": [
    "%matplotlib inline\n",
    "\n",
    "import numpy as np\n",
    "import pandas as pd\n",
    "from pandas.plotting import register_matplotlib_converters\n",
    "register_matplotlib_converters()\n",
    "\n",
    "# imports and settings for plots\n",
    "from matplotlib import pyplot\n",
    "import matplotlib.dates as mdates\n",
    "import matplotlib.pyplot as plt\n",
    "import matplotlib.ticker as tkr \n",
    "import plotly.plotly as py\n",
    "import plotly.tools as tls\n",
    "import seaborn as sns\n",
    "\n",
    "from sklearn.preprocessing import MinMaxScaler\n",
    "from sklearn.model_selection import train_test_split\n",
    "from sklearn.metrics import mean_squared_error\n",
    "from sklearn.linear_model import LinearRegression\n",
    "from statsmodels.tsa.arima_model import ARIMA\n",
    "\n",
    "# need tf backend as background\n",
    "from keras.models import Sequential\n",
    "from keras.layers import Dense, LSTM\n",
    "from keras.callbacks import EarlyStopping, ModelCheckpoint"
   ]
  },
  {
   "cell_type": "code",
   "execution_count": 3,
   "metadata": {},
   "outputs": [],
   "source": [
    "sns.set_style(\"whitegrid\")\n",
    "sns.set(rc={'figure.figsize':(18,9)})"
   ]
  },
  {
   "cell_type": "markdown",
   "metadata": {},
   "source": [
    "#### Задача:\n",
    "1. Воспроизведите график числа рекламных событий по дням. \n",
    "2. Найдите причину резкого увеличения количества рекламных событий и объясните, что произошло. \n",
    "3. Предложите способ, который помог бы автоматически детектировать аномальные изменения метрик на графиках рекламной статистики. \n",
    "Иными словами, предложите алгоритм, который каждое утро анализирует данные за прошедшие сутки, и, если они сильно выбиваются из общего тренда, отправляет аналитику уведомление: на этом графике есть проблема за вчерашний день. \n",
    "Подумайте, как сделать детектор, который проверяет на аномалии каждый час, каждые пять минут в графике? \n",
    "\n",
    "Предложите вариант кода, который решает эту задачу. Реализовывать логику нотификации не нужно, только поиск аномального дня, часа, пятиминутки в данных рекламной статистики. \n",
    "\n",
    "Немного дополнительной информации о структуре рекламы ВКонтакте. \n",
    "Есть две основные группы рекламодателей: агентства и клиенты. \n",
    "Агентствами являются рекламные кабинеты юридических лиц. Среди клиентов же существуют как клиенты этих самых агентств, так и автономные рекламные кабинеты физических лиц, над которыми нет агентств. \n",
    "Рекламные кампании — это наборы рекламных объявлений. \n",
    "Они есть в каждом кабинете. \n",
    "\n",
    "Описание данных:\n",
    "\n",
    "- time — время взаимодействия пользователя с рекламой в формате UnixTime;\n",
    "- event — тип взаимодействия (click — клик на объявление, view — показ объявления, report — жалоба на объявление);\n",
    "- ad_cost_type — тип трат рекламного объявления (CPM — траты за 1000 показов, CPC — траты за клик);\n",
    "- has_video — наличие видео в объявлении (0 — нет, 1 — есть);\n",
    "- agency_union_id — id рекламного агентства (если рекламный кабинет принадлежит физическому лицу, то ячейка будет заполнена значением 'no_agency');\n",
    "- client_union_id — id рекламного клиента;\n",
    "- campaign_union_id — id рекламной кампании;\n",
    "- ad_id — id рекламного объявления;\n",
    "- platform — платформа, с которой пользователь взаимодействовал с рекламой (web — веб-версия, mvk — мобильная версия, iphone — IOS-приложение, android — Android-приложение, wphone — Windows Phone-приложение)."
   ]
  },
  {
   "cell_type": "markdown",
   "metadata": {},
   "source": [
    "#### Read data\n",
    "\n",
    "Считаем первые n-строк, чтобы не загружать весь датасет в память целиком, посмотрим на данные и выберем нужные параметры для считывания."
   ]
  },
  {
   "cell_type": "code",
   "execution_count": 4,
   "metadata": {},
   "outputs": [],
   "source": [
    "path = 'data/vk_test_data.csv'\n",
    "df = pd.read_csv(path, \n",
    "                 nrows = 5)"
   ]
  },
  {
   "cell_type": "code",
   "execution_count": 5,
   "metadata": {},
   "outputs": [
    {
     "data": {
      "text/html": [
       "<div>\n",
       "<style scoped>\n",
       "    .dataframe tbody tr th:only-of-type {\n",
       "        vertical-align: middle;\n",
       "    }\n",
       "\n",
       "    .dataframe tbody tr th {\n",
       "        vertical-align: top;\n",
       "    }\n",
       "\n",
       "    .dataframe thead th {\n",
       "        text-align: right;\n",
       "    }\n",
       "</style>\n",
       "<table border=\"1\" class=\"dataframe\">\n",
       "  <thead>\n",
       "    <tr style=\"text-align: right;\">\n",
       "      <th></th>\n",
       "      <th>time</th>\n",
       "      <th>event</th>\n",
       "      <th>ad_cost_type</th>\n",
       "      <th>has_video</th>\n",
       "      <th>agency_union_id</th>\n",
       "      <th>client_union_id</th>\n",
       "      <th>campaign_union_id</th>\n",
       "      <th>ad_id</th>\n",
       "      <th>platform</th>\n",
       "      <th>date</th>\n",
       "    </tr>\n",
       "  </thead>\n",
       "  <tbody>\n",
       "    <tr>\n",
       "      <th>0</th>\n",
       "      <td>1.554744e+09</td>\n",
       "      <td>report</td>\n",
       "      <td>CPM</td>\n",
       "      <td>0</td>\n",
       "      <td>no_agency</td>\n",
       "      <td>client_21074</td>\n",
       "      <td>campaign_27489</td>\n",
       "      <td>ad_27489</td>\n",
       "      <td>android</td>\n",
       "      <td>2019-04-08</td>\n",
       "    </tr>\n",
       "    <tr>\n",
       "      <th>1</th>\n",
       "      <td>1.555103e+09</td>\n",
       "      <td>click</td>\n",
       "      <td>CPM</td>\n",
       "      <td>0</td>\n",
       "      <td>no_agency</td>\n",
       "      <td>client_22392</td>\n",
       "      <td>campaign_35893</td>\n",
       "      <td>ad_35893</td>\n",
       "      <td>android</td>\n",
       "      <td>2019-04-12</td>\n",
       "    </tr>\n",
       "    <tr>\n",
       "      <th>2</th>\n",
       "      <td>1.555403e+09</td>\n",
       "      <td>click</td>\n",
       "      <td>CPM</td>\n",
       "      <td>0</td>\n",
       "      <td>no_agency</td>\n",
       "      <td>client_16836</td>\n",
       "      <td>campaign_26799</td>\n",
       "      <td>ad_26804</td>\n",
       "      <td>web</td>\n",
       "      <td>2019-04-16</td>\n",
       "    </tr>\n",
       "    <tr>\n",
       "      <th>3</th>\n",
       "      <td>1.554822e+09</td>\n",
       "      <td>click</td>\n",
       "      <td>CPM</td>\n",
       "      <td>0</td>\n",
       "      <td>no_agency</td>\n",
       "      <td>client_22920</td>\n",
       "      <td>campaign_37146</td>\n",
       "      <td>ad_37146</td>\n",
       "      <td>android</td>\n",
       "      <td>2019-04-09</td>\n",
       "    </tr>\n",
       "    <tr>\n",
       "      <th>4</th>\n",
       "      <td>1.554967e+09</td>\n",
       "      <td>click</td>\n",
       "      <td>CPM</td>\n",
       "      <td>0</td>\n",
       "      <td>no_agency</td>\n",
       "      <td>client_645</td>\n",
       "      <td>campaign_15893</td>\n",
       "      <td>ad_15944</td>\n",
       "      <td>web</td>\n",
       "      <td>2019-04-11</td>\n",
       "    </tr>\n",
       "  </tbody>\n",
       "</table>\n",
       "</div>"
      ],
      "text/plain": [
       "           time   event ad_cost_type  has_video agency_union_id  \\\n",
       "0  1.554744e+09  report          CPM          0       no_agency   \n",
       "1  1.555103e+09   click          CPM          0       no_agency   \n",
       "2  1.555403e+09   click          CPM          0       no_agency   \n",
       "3  1.554822e+09   click          CPM          0       no_agency   \n",
       "4  1.554967e+09   click          CPM          0       no_agency   \n",
       "\n",
       "  client_union_id campaign_union_id     ad_id platform        date  \n",
       "0    client_21074    campaign_27489  ad_27489  android  2019-04-08  \n",
       "1    client_22392    campaign_35893  ad_35893  android  2019-04-12  \n",
       "2    client_16836    campaign_26799  ad_26804      web  2019-04-16  \n",
       "3    client_22920    campaign_37146  ad_37146  android  2019-04-09  \n",
       "4      client_645    campaign_15893  ad_15944      web  2019-04-11  "
      ]
     },
     "execution_count": 5,
     "metadata": {},
     "output_type": "execute_result"
    }
   ],
   "source": [
    "df"
   ]
  },
  {
   "cell_type": "markdown",
   "metadata": {},
   "source": [
    "Сразу определим типы для time и has_video."
   ]
  },
  {
   "cell_type": "code",
   "execution_count": 6,
   "metadata": {},
   "outputs": [],
   "source": [
    "df = pd.read_csv(path, \n",
    "                 sep=\",\",\n",
    "                 dtype={'time': 'uint32',\n",
    "                        'has_video': 'bool'})\n",
    "\n",
    "df['time_from_timestamp'] = pd.to_datetime(df.time,unit='s')"
   ]
  },
  {
   "cell_type": "code",
   "execution_count": 7,
   "metadata": {},
   "outputs": [],
   "source": [
    "'''\n",
    "# auxilary method, to check if value is in range\n",
    "vals = [1554744145, np.int32(2), np.int64(1), np.float64(0)]\n",
    "[(e, type(e), isinstance(e, (int, np.integer))) for e in vals]\n",
    "''';"
   ]
  },
  {
   "cell_type": "code",
   "execution_count": 8,
   "metadata": {},
   "outputs": [
    {
     "name": "stdout",
     "output_type": "stream",
     "text": [
      "<class 'pandas.core.frame.DataFrame'>\n",
      "RangeIndex: 122097 entries, 0 to 122096\n",
      "Data columns (total 11 columns):\n",
      "time                   122097 non-null uint32\n",
      "event                  122097 non-null object\n",
      "ad_cost_type           122097 non-null object\n",
      "has_video              122097 non-null bool\n",
      "agency_union_id        122097 non-null object\n",
      "client_union_id        122097 non-null object\n",
      "campaign_union_id      122097 non-null object\n",
      "ad_id                  122097 non-null object\n",
      "platform               122097 non-null object\n",
      "date                   122097 non-null object\n",
      "time_from_timestamp    122097 non-null datetime64[ns]\n",
      "dtypes: bool(1), datetime64[ns](1), object(8), uint32(1)\n",
      "memory usage: 9.0+ MB\n"
     ]
    }
   ],
   "source": [
    "df.info()"
   ]
  },
  {
   "cell_type": "code",
   "execution_count": 9,
   "metadata": {},
   "outputs": [
    {
     "data": {
      "text/html": [
       "<div>\n",
       "<style scoped>\n",
       "    .dataframe tbody tr th:only-of-type {\n",
       "        vertical-align: middle;\n",
       "    }\n",
       "\n",
       "    .dataframe tbody tr th {\n",
       "        vertical-align: top;\n",
       "    }\n",
       "\n",
       "    .dataframe thead th {\n",
       "        text-align: right;\n",
       "    }\n",
       "</style>\n",
       "<table border=\"1\" class=\"dataframe\">\n",
       "  <thead>\n",
       "    <tr style=\"text-align: right;\">\n",
       "      <th></th>\n",
       "      <th>time</th>\n",
       "      <th>event</th>\n",
       "      <th>ad_cost_type</th>\n",
       "      <th>has_video</th>\n",
       "      <th>agency_union_id</th>\n",
       "      <th>client_union_id</th>\n",
       "      <th>campaign_union_id</th>\n",
       "      <th>ad_id</th>\n",
       "      <th>platform</th>\n",
       "      <th>date</th>\n",
       "      <th>time_from_timestamp</th>\n",
       "    </tr>\n",
       "  </thead>\n",
       "  <tbody>\n",
       "    <tr>\n",
       "      <th>0</th>\n",
       "      <td>1554744145</td>\n",
       "      <td>report</td>\n",
       "      <td>CPM</td>\n",
       "      <td>False</td>\n",
       "      <td>no_agency</td>\n",
       "      <td>client_21074</td>\n",
       "      <td>campaign_27489</td>\n",
       "      <td>ad_27489</td>\n",
       "      <td>android</td>\n",
       "      <td>2019-04-08</td>\n",
       "      <td>2019-04-08 17:22:25</td>\n",
       "    </tr>\n",
       "    <tr>\n",
       "      <th>1</th>\n",
       "      <td>1555103458</td>\n",
       "      <td>click</td>\n",
       "      <td>CPM</td>\n",
       "      <td>False</td>\n",
       "      <td>no_agency</td>\n",
       "      <td>client_22392</td>\n",
       "      <td>campaign_35893</td>\n",
       "      <td>ad_35893</td>\n",
       "      <td>android</td>\n",
       "      <td>2019-04-12</td>\n",
       "      <td>2019-04-12 21:10:58</td>\n",
       "    </tr>\n",
       "    <tr>\n",
       "      <th>2</th>\n",
       "      <td>1555402601</td>\n",
       "      <td>click</td>\n",
       "      <td>CPM</td>\n",
       "      <td>False</td>\n",
       "      <td>no_agency</td>\n",
       "      <td>client_16836</td>\n",
       "      <td>campaign_26799</td>\n",
       "      <td>ad_26804</td>\n",
       "      <td>web</td>\n",
       "      <td>2019-04-16</td>\n",
       "      <td>2019-04-16 08:16:41</td>\n",
       "    </tr>\n",
       "    <tr>\n",
       "      <th>3</th>\n",
       "      <td>1554822479</td>\n",
       "      <td>click</td>\n",
       "      <td>CPM</td>\n",
       "      <td>False</td>\n",
       "      <td>no_agency</td>\n",
       "      <td>client_22920</td>\n",
       "      <td>campaign_37146</td>\n",
       "      <td>ad_37146</td>\n",
       "      <td>android</td>\n",
       "      <td>2019-04-09</td>\n",
       "      <td>2019-04-09 15:07:59</td>\n",
       "    </tr>\n",
       "    <tr>\n",
       "      <th>4</th>\n",
       "      <td>1554966717</td>\n",
       "      <td>click</td>\n",
       "      <td>CPM</td>\n",
       "      <td>False</td>\n",
       "      <td>no_agency</td>\n",
       "      <td>client_645</td>\n",
       "      <td>campaign_15893</td>\n",
       "      <td>ad_15944</td>\n",
       "      <td>web</td>\n",
       "      <td>2019-04-11</td>\n",
       "      <td>2019-04-11 07:11:57</td>\n",
       "    </tr>\n",
       "    <tr>\n",
       "      <th>5</th>\n",
       "      <td>1555418913</td>\n",
       "      <td>view</td>\n",
       "      <td>CPC</td>\n",
       "      <td>False</td>\n",
       "      <td>no_agency</td>\n",
       "      <td>client_265</td>\n",
       "      <td>campaign_13516</td>\n",
       "      <td>ad_13517</td>\n",
       "      <td>android</td>\n",
       "      <td>2019-04-16</td>\n",
       "      <td>2019-04-16 12:48:33</td>\n",
       "    </tr>\n",
       "    <tr>\n",
       "      <th>6</th>\n",
       "      <td>1555146351</td>\n",
       "      <td>report</td>\n",
       "      <td>CPM</td>\n",
       "      <td>False</td>\n",
       "      <td>no_agency</td>\n",
       "      <td>client_22021</td>\n",
       "      <td>campaign_34637</td>\n",
       "      <td>ad_34651</td>\n",
       "      <td>mvk</td>\n",
       "      <td>2019-04-13</td>\n",
       "      <td>2019-04-13 09:05:51</td>\n",
       "    </tr>\n",
       "    <tr>\n",
       "      <th>7</th>\n",
       "      <td>1554503043</td>\n",
       "      <td>view</td>\n",
       "      <td>CPM</td>\n",
       "      <td>False</td>\n",
       "      <td>agency_155</td>\n",
       "      <td>client_105617</td>\n",
       "      <td>campaign_106015</td>\n",
       "      <td>ad_106015</td>\n",
       "      <td>iphone</td>\n",
       "      <td>2019-04-05</td>\n",
       "      <td>2019-04-05 22:24:03</td>\n",
       "    </tr>\n",
       "    <tr>\n",
       "      <th>8</th>\n",
       "      <td>1554940634</td>\n",
       "      <td>view</td>\n",
       "      <td>CPM</td>\n",
       "      <td>False</td>\n",
       "      <td>no_agency</td>\n",
       "      <td>client_264</td>\n",
       "      <td>campaign_13491</td>\n",
       "      <td>ad_13513</td>\n",
       "      <td>android</td>\n",
       "      <td>2019-04-10</td>\n",
       "      <td>2019-04-10 23:57:14</td>\n",
       "    </tr>\n",
       "    <tr>\n",
       "      <th>9</th>\n",
       "      <td>1554719466</td>\n",
       "      <td>view</td>\n",
       "      <td>CPM</td>\n",
       "      <td>False</td>\n",
       "      <td>no_agency</td>\n",
       "      <td>client_1728</td>\n",
       "      <td>campaign_19254</td>\n",
       "      <td>ad_19255</td>\n",
       "      <td>android</td>\n",
       "      <td>2019-04-08</td>\n",
       "      <td>2019-04-08 10:31:06</td>\n",
       "    </tr>\n",
       "  </tbody>\n",
       "</table>\n",
       "</div>"
      ],
      "text/plain": [
       "         time   event ad_cost_type  has_video agency_union_id client_union_id  \\\n",
       "0  1554744145  report          CPM      False       no_agency    client_21074   \n",
       "1  1555103458   click          CPM      False       no_agency    client_22392   \n",
       "2  1555402601   click          CPM      False       no_agency    client_16836   \n",
       "3  1554822479   click          CPM      False       no_agency    client_22920   \n",
       "4  1554966717   click          CPM      False       no_agency      client_645   \n",
       "5  1555418913    view          CPC      False       no_agency      client_265   \n",
       "6  1555146351  report          CPM      False       no_agency    client_22021   \n",
       "7  1554503043    view          CPM      False      agency_155   client_105617   \n",
       "8  1554940634    view          CPM      False       no_agency      client_264   \n",
       "9  1554719466    view          CPM      False       no_agency     client_1728   \n",
       "\n",
       "  campaign_union_id      ad_id platform        date time_from_timestamp  \n",
       "0    campaign_27489   ad_27489  android  2019-04-08 2019-04-08 17:22:25  \n",
       "1    campaign_35893   ad_35893  android  2019-04-12 2019-04-12 21:10:58  \n",
       "2    campaign_26799   ad_26804      web  2019-04-16 2019-04-16 08:16:41  \n",
       "3    campaign_37146   ad_37146  android  2019-04-09 2019-04-09 15:07:59  \n",
       "4    campaign_15893   ad_15944      web  2019-04-11 2019-04-11 07:11:57  \n",
       "5    campaign_13516   ad_13517  android  2019-04-16 2019-04-16 12:48:33  \n",
       "6    campaign_34637   ad_34651      mvk  2019-04-13 2019-04-13 09:05:51  \n",
       "7   campaign_106015  ad_106015   iphone  2019-04-05 2019-04-05 22:24:03  \n",
       "8    campaign_13491   ad_13513  android  2019-04-10 2019-04-10 23:57:14  \n",
       "9    campaign_19254   ad_19255  android  2019-04-08 2019-04-08 10:31:06  "
      ]
     },
     "execution_count": 9,
     "metadata": {},
     "output_type": "execute_result"
    }
   ],
   "source": [
    "df.head(10)"
   ]
  },
  {
   "cell_type": "markdown",
   "metadata": {},
   "source": [
    "#### Lineplot\n",
    "\n",
    "Повторим график из задания, для этого сгруппируем записи по дням и посчитаем количество событий."
   ]
  },
  {
   "cell_type": "code",
   "execution_count": 10,
   "metadata": {},
   "outputs": [],
   "source": [
    "count_adv_by_day = df.groupby('date', as_index=False).\\\n",
    "agg({'event':'count'})\\\n",
    ".rename(columns = {'event':'event_count'})\\\n",
    "\n",
    "# need it for correct usage of date formatter in plot\n",
    "count_adv_by_day['date'] = pd.to_datetime(count_adv_by_day.date, format='%Y-%m-%d')\n",
    "\n",
    "count_adv_by_day.sort_values(by = 'date', ascending=True, inplace=True)"
   ]
  },
  {
   "cell_type": "code",
   "execution_count": 11,
   "metadata": {},
   "outputs": [
    {
     "data": {
      "text/html": [
       "<div>\n",
       "<style scoped>\n",
       "    .dataframe tbody tr th:only-of-type {\n",
       "        vertical-align: middle;\n",
       "    }\n",
       "\n",
       "    .dataframe tbody tr th {\n",
       "        vertical-align: top;\n",
       "    }\n",
       "\n",
       "    .dataframe thead th {\n",
       "        text-align: right;\n",
       "    }\n",
       "</style>\n",
       "<table border=\"1\" class=\"dataframe\">\n",
       "  <thead>\n",
       "    <tr style=\"text-align: right;\">\n",
       "      <th></th>\n",
       "      <th>date</th>\n",
       "      <th>event_count</th>\n",
       "    </tr>\n",
       "  </thead>\n",
       "  <tbody>\n",
       "    <tr>\n",
       "      <th>0</th>\n",
       "      <td>2019-04-01</td>\n",
       "      <td>5172</td>\n",
       "    </tr>\n",
       "    <tr>\n",
       "      <th>1</th>\n",
       "      <td>2019-04-02</td>\n",
       "      <td>5269</td>\n",
       "    </tr>\n",
       "    <tr>\n",
       "      <th>2</th>\n",
       "      <td>2019-04-03</td>\n",
       "      <td>5357</td>\n",
       "    </tr>\n",
       "    <tr>\n",
       "      <th>3</th>\n",
       "      <td>2019-04-04</td>\n",
       "      <td>5108</td>\n",
       "    </tr>\n",
       "    <tr>\n",
       "      <th>4</th>\n",
       "      <td>2019-04-05</td>\n",
       "      <td>5305</td>\n",
       "    </tr>\n",
       "    <tr>\n",
       "      <th>5</th>\n",
       "      <td>2019-04-06</td>\n",
       "      <td>3955</td>\n",
       "    </tr>\n",
       "    <tr>\n",
       "      <th>6</th>\n",
       "      <td>2019-04-07</td>\n",
       "      <td>4091</td>\n",
       "    </tr>\n",
       "    <tr>\n",
       "      <th>7</th>\n",
       "      <td>2019-04-08</td>\n",
       "      <td>8902</td>\n",
       "    </tr>\n",
       "    <tr>\n",
       "      <th>8</th>\n",
       "      <td>2019-04-09</td>\n",
       "      <td>7963</td>\n",
       "    </tr>\n",
       "    <tr>\n",
       "      <th>9</th>\n",
       "      <td>2019-04-10</td>\n",
       "      <td>7098</td>\n",
       "    </tr>\n",
       "    <tr>\n",
       "      <th>10</th>\n",
       "      <td>2019-04-11</td>\n",
       "      <td>18259</td>\n",
       "    </tr>\n",
       "    <tr>\n",
       "      <th>11</th>\n",
       "      <td>2019-04-12</td>\n",
       "      <td>10740</td>\n",
       "    </tr>\n",
       "    <tr>\n",
       "      <th>12</th>\n",
       "      <td>2019-04-13</td>\n",
       "      <td>10999</td>\n",
       "    </tr>\n",
       "    <tr>\n",
       "      <th>13</th>\n",
       "      <td>2019-04-14</td>\n",
       "      <td>8656</td>\n",
       "    </tr>\n",
       "    <tr>\n",
       "      <th>14</th>\n",
       "      <td>2019-04-15</td>\n",
       "      <td>7457</td>\n",
       "    </tr>\n",
       "    <tr>\n",
       "      <th>15</th>\n",
       "      <td>2019-04-16</td>\n",
       "      <td>7766</td>\n",
       "    </tr>\n",
       "  </tbody>\n",
       "</table>\n",
       "</div>"
      ],
      "text/plain": [
       "         date  event_count\n",
       "0  2019-04-01         5172\n",
       "1  2019-04-02         5269\n",
       "2  2019-04-03         5357\n",
       "3  2019-04-04         5108\n",
       "4  2019-04-05         5305\n",
       "5  2019-04-06         3955\n",
       "6  2019-04-07         4091\n",
       "7  2019-04-08         8902\n",
       "8  2019-04-09         7963\n",
       "9  2019-04-10         7098\n",
       "10 2019-04-11        18259\n",
       "11 2019-04-12        10740\n",
       "12 2019-04-13        10999\n",
       "13 2019-04-14         8656\n",
       "14 2019-04-15         7457\n",
       "15 2019-04-16         7766"
      ]
     },
     "execution_count": 11,
     "metadata": {},
     "output_type": "execute_result"
    }
   ],
   "source": [
    "count_adv_by_day"
   ]
  },
  {
   "cell_type": "code",
   "execution_count": 12,
   "metadata": {},
   "outputs": [],
   "source": [
    "# custom formatter for y-axis on plot\n",
    "def y_fmt(tick_val, pos):\n",
    "    if tick_val > 1000000:\n",
    "        val = int(tick_val)/1000000\n",
    "        return (str(val) + \"M\")\n",
    "    elif tick_val > 1000:\n",
    "        val = int(int(tick_val) / 1000)\n",
    "        return (str(val) + \"k\")\n",
    "    else:\n",
    "        return tick_val\n",
    "\n",
    "yfmt = tkr.FuncFormatter(y_fmt)"
   ]
  },
  {
   "cell_type": "code",
   "execution_count": 13,
   "metadata": {},
   "outputs": [
    {
     "data": {
      "image/png": "[encoded data removed]",
      "text/plain": [
       "<Figure size 1152x576 with 1 Axes>"
      ]
     },
     "metadata": {},
     "output_type": "display_data"
    }
   ],
   "source": [
    "ax = sns.lineplot(x = 'date', \n",
    "                  y = 'event_count', \n",
    "                  marker=\"o\",\n",
    "                  data = count_adv_by_day)\n",
    "\n",
    "ax.figure.set_size_inches(16, 8)\n",
    "ax.set_title('Распределение действий с рекламными объвлениями')\n",
    "ax.set_xlabel('Дни')\n",
    "ax.set_ylabel('Количество действий с рекламными объявлениями')\n",
    "ax.xaxis.set_major_formatter(mdates.DateFormatter('%b %d'))\n",
    "ax.yaxis.set_major_formatter(yfmt);"
   ]
  },
  {
   "cell_type": "markdown",
   "metadata": {},
   "source": [
    "На графике явно виден рост количества событий, который начинается 10 апреля и заканчивается 12 апрелем."
   ]
  },
  {
   "cell_type": "markdown",
   "metadata": {},
   "source": [
    "#### Splash reasons?\n",
    "\n",
    "Причин такого всплеска может быть несколько, в первую очередь это может быть какой-либо технический сбой, затем это может быть какая-либо рекламная акция или же какое-либо произошедшее массовое событие.\n",
    "\n",
    "Попробуем сначала посмотреть на пропуски и наличие дубликатов, а затем проанализировать каких платформ это коснулось больше всего."
   ]
  },
  {
   "cell_type": "code",
   "execution_count": 14,
   "metadata": {},
   "outputs": [
    {
     "data": {
      "text/plain": [
       "time                   0\n",
       "event                  0\n",
       "ad_cost_type           0\n",
       "has_video              0\n",
       "agency_union_id        0\n",
       "client_union_id        0\n",
       "campaign_union_id      0\n",
       "ad_id                  0\n",
       "platform               0\n",
       "date                   0\n",
       "time_from_timestamp    0\n",
       "dtype: int64"
      ]
     },
     "execution_count": 14,
     "metadata": {},
     "output_type": "execute_result"
    }
   ],
   "source": [
    "# check for NAs for safety\n",
    "df.isna().sum()"
   ]
  },
  {
   "cell_type": "markdown",
   "metadata": {},
   "source": [
    "#### Duplicates check.\n",
    "Проверим исходный набор данных на дубликаты."
   ]
  },
  {
   "cell_type": "code",
   "execution_count": 15,
   "metadata": {},
   "outputs": [
    {
     "data": {
      "text/html": [
       "<div>\n",
       "<style scoped>\n",
       "    .dataframe tbody tr th:only-of-type {\n",
       "        vertical-align: middle;\n",
       "    }\n",
       "\n",
       "    .dataframe tbody tr th {\n",
       "        vertical-align: top;\n",
       "    }\n",
       "\n",
       "    .dataframe thead th {\n",
       "        text-align: right;\n",
       "    }\n",
       "</style>\n",
       "<table border=\"1\" class=\"dataframe\">\n",
       "  <thead>\n",
       "    <tr style=\"text-align: right;\">\n",
       "      <th></th>\n",
       "      <th>time</th>\n",
       "      <th>event</th>\n",
       "      <th>ad_cost_type</th>\n",
       "      <th>has_video</th>\n",
       "      <th>agency_union_id</th>\n",
       "      <th>client_union_id</th>\n",
       "      <th>campaign_union_id</th>\n",
       "      <th>ad_id</th>\n",
       "      <th>platform</th>\n",
       "      <th>date</th>\n",
       "      <th>time_from_timestamp</th>\n",
       "    </tr>\n",
       "  </thead>\n",
       "  <tbody>\n",
       "    <tr>\n",
       "      <th>3</th>\n",
       "      <td>1554822479</td>\n",
       "      <td>click</td>\n",
       "      <td>CPM</td>\n",
       "      <td>False</td>\n",
       "      <td>no_agency</td>\n",
       "      <td>client_22920</td>\n",
       "      <td>campaign_37146</td>\n",
       "      <td>ad_37146</td>\n",
       "      <td>android</td>\n",
       "      <td>2019-04-09</td>\n",
       "      <td>2019-04-09 15:07:59</td>\n",
       "    </tr>\n",
       "    <tr>\n",
       "      <th>19</th>\n",
       "      <td>1555011001</td>\n",
       "      <td>view</td>\n",
       "      <td>CPC</td>\n",
       "      <td>False</td>\n",
       "      <td>agency_2</td>\n",
       "      <td>client_47270</td>\n",
       "      <td>campaign_49554</td>\n",
       "      <td>ad_49554</td>\n",
       "      <td>android</td>\n",
       "      <td>2019-04-11</td>\n",
       "      <td>2019-04-11 19:30:01</td>\n",
       "    </tr>\n",
       "    <tr>\n",
       "      <th>22</th>\n",
       "      <td>1554977283</td>\n",
       "      <td>view</td>\n",
       "      <td>CPC</td>\n",
       "      <td>False</td>\n",
       "      <td>agency_2</td>\n",
       "      <td>client_47270</td>\n",
       "      <td>campaign_49554</td>\n",
       "      <td>ad_49554</td>\n",
       "      <td>android</td>\n",
       "      <td>2019-04-11</td>\n",
       "      <td>2019-04-11 10:08:03</td>\n",
       "    </tr>\n",
       "    <tr>\n",
       "      <th>32</th>\n",
       "      <td>1554152264</td>\n",
       "      <td>view</td>\n",
       "      <td>CPC</td>\n",
       "      <td>False</td>\n",
       "      <td>agency_33</td>\n",
       "      <td>client_99583</td>\n",
       "      <td>campaign_99718</td>\n",
       "      <td>ad_101258</td>\n",
       "      <td>android</td>\n",
       "      <td>2019-04-01</td>\n",
       "      <td>2019-04-01 20:57:44</td>\n",
       "    </tr>\n",
       "    <tr>\n",
       "      <th>35</th>\n",
       "      <td>1555173105</td>\n",
       "      <td>view</td>\n",
       "      <td>CPC</td>\n",
       "      <td>False</td>\n",
       "      <td>agency_2</td>\n",
       "      <td>client_47270</td>\n",
       "      <td>campaign_49554</td>\n",
       "      <td>ad_49556</td>\n",
       "      <td>android</td>\n",
       "      <td>2019-04-13</td>\n",
       "      <td>2019-04-13 16:31:45</td>\n",
       "    </tr>\n",
       "  </tbody>\n",
       "</table>\n",
       "</div>"
      ],
      "text/plain": [
       "          time  event ad_cost_type  has_video agency_union_id client_union_id  \\\n",
       "3   1554822479  click          CPM      False       no_agency    client_22920   \n",
       "19  1555011001   view          CPC      False        agency_2    client_47270   \n",
       "22  1554977283   view          CPC      False        agency_2    client_47270   \n",
       "32  1554152264   view          CPC      False       agency_33    client_99583   \n",
       "35  1555173105   view          CPC      False        agency_2    client_47270   \n",
       "\n",
       "   campaign_union_id      ad_id platform        date time_from_timestamp  \n",
       "3     campaign_37146   ad_37146  android  2019-04-09 2019-04-09 15:07:59  \n",
       "19    campaign_49554   ad_49554  android  2019-04-11 2019-04-11 19:30:01  \n",
       "22    campaign_49554   ad_49554  android  2019-04-11 2019-04-11 10:08:03  \n",
       "32    campaign_99718  ad_101258  android  2019-04-01 2019-04-01 20:57:44  \n",
       "35    campaign_49554   ad_49556  android  2019-04-13 2019-04-13 16:31:45  "
      ]
     },
     "execution_count": 15,
     "metadata": {},
     "output_type": "execute_result"
    }
   ],
   "source": [
    "df_duplicates = df[df.duplicated(subset = ['time','platform'], keep = False)]\n",
    "df_duplicates.head()"
   ]
  },
  {
   "cell_type": "code",
   "execution_count": 16,
   "metadata": {},
   "outputs": [
    {
     "data": {
      "text/plain": [
       "(8622, 11)"
      ]
     },
     "execution_count": 16,
     "metadata": {},
     "output_type": "execute_result"
    }
   ],
   "source": [
    "df_duplicates.shape"
   ]
  },
  {
   "cell_type": "code",
   "execution_count": 17,
   "metadata": {
    "scrolled": false
   },
   "outputs": [
    {
     "name": "stdout",
     "output_type": "stream",
     "text": [
      "view      6739\n",
      "click     1539\n",
      "report     344\n",
      "Name: event, dtype: int64\n",
      "CPC    6121\n",
      "CPM    2501\n",
      "Name: ad_cost_type, dtype: int64\n",
      "agency_2      4979\n",
      "no_agency     2412\n",
      "agency_158      96\n",
      "Name: agency_union_id, dtype: int64\n",
      "client_47270    4840\n",
      "client_47269      97\n",
      "client_42         82\n",
      "Name: client_union_id, dtype: int64\n",
      "campaign_49554    4840\n",
      "campaign_47269      83\n",
      "campaign_5822       59\n",
      "Name: campaign_union_id, dtype: int64\n",
      "ad_49554    3122\n",
      "ad_49556     985\n",
      "ad_49560     477\n",
      "Name: ad_id, dtype: int64\n",
      "android    7901\n",
      "iphone      359\n",
      "web         288\n",
      "Name: platform, dtype: int64\n",
      "2019-04-11    2900\n",
      "2019-04-13     994\n",
      "2019-04-12     835\n",
      "Name: date, dtype: int64\n"
     ]
    }
   ],
   "source": [
    "# drop has video, cause it contains only false\n",
    "for column in df_duplicates.drop(['time','time_from_timestamp','has_video'], axis = 1):\n",
    "    #print(column)\n",
    "    print(df_duplicates[column].value_counts(ascending=False)[:3])"
   ]
  },
  {
   "cell_type": "code",
   "execution_count": 18,
   "metadata": {
    "scrolled": true
   },
   "outputs": [
    {
     "data": {
      "text/html": [
       "<div>\n",
       "<style scoped>\n",
       "    .dataframe tbody tr th:only-of-type {\n",
       "        vertical-align: middle;\n",
       "    }\n",
       "\n",
       "    .dataframe tbody tr th {\n",
       "        vertical-align: top;\n",
       "    }\n",
       "\n",
       "    .dataframe thead th {\n",
       "        text-align: right;\n",
       "    }\n",
       "</style>\n",
       "<table border=\"1\" class=\"dataframe\">\n",
       "  <thead>\n",
       "    <tr style=\"text-align: right;\">\n",
       "      <th></th>\n",
       "      <th>time</th>\n",
       "      <th>event</th>\n",
       "      <th>ad_cost_type</th>\n",
       "      <th>has_video</th>\n",
       "      <th>agency_union_id</th>\n",
       "      <th>client_union_id</th>\n",
       "      <th>campaign_union_id</th>\n",
       "      <th>ad_id</th>\n",
       "      <th>platform</th>\n",
       "      <th>date</th>\n",
       "      <th>time_from_timestamp</th>\n",
       "    </tr>\n",
       "  </thead>\n",
       "  <tbody>\n",
       "    <tr>\n",
       "      <th>98771</th>\n",
       "      <td>1554482328</td>\n",
       "      <td>view</td>\n",
       "      <td>CPC</td>\n",
       "      <td>False</td>\n",
       "      <td>agency_2</td>\n",
       "      <td>client_47270</td>\n",
       "      <td>campaign_49554</td>\n",
       "      <td>ad_49564</td>\n",
       "      <td>android</td>\n",
       "      <td>2019-04-05</td>\n",
       "      <td>2019-04-05 16:38:48</td>\n",
       "    </tr>\n",
       "    <tr>\n",
       "      <th>20182</th>\n",
       "      <td>1554486863</td>\n",
       "      <td>view</td>\n",
       "      <td>CPC</td>\n",
       "      <td>False</td>\n",
       "      <td>agency_2</td>\n",
       "      <td>client_47270</td>\n",
       "      <td>campaign_49554</td>\n",
       "      <td>ad_49564</td>\n",
       "      <td>android</td>\n",
       "      <td>2019-04-05</td>\n",
       "      <td>2019-04-05 17:54:23</td>\n",
       "    </tr>\n",
       "    <tr>\n",
       "      <th>19074</th>\n",
       "      <td>1554487776</td>\n",
       "      <td>view</td>\n",
       "      <td>CPC</td>\n",
       "      <td>False</td>\n",
       "      <td>agency_2</td>\n",
       "      <td>client_47270</td>\n",
       "      <td>campaign_49554</td>\n",
       "      <td>ad_49560</td>\n",
       "      <td>android</td>\n",
       "      <td>2019-04-05</td>\n",
       "      <td>2019-04-05 18:09:36</td>\n",
       "    </tr>\n",
       "    <tr>\n",
       "      <th>10110</th>\n",
       "      <td>1554487776</td>\n",
       "      <td>view</td>\n",
       "      <td>CPC</td>\n",
       "      <td>False</td>\n",
       "      <td>agency_2</td>\n",
       "      <td>client_47270</td>\n",
       "      <td>campaign_49554</td>\n",
       "      <td>ad_49560</td>\n",
       "      <td>android</td>\n",
       "      <td>2019-04-05</td>\n",
       "      <td>2019-04-05 18:09:36</td>\n",
       "    </tr>\n",
       "    <tr>\n",
       "      <th>9542</th>\n",
       "      <td>1554487776</td>\n",
       "      <td>view</td>\n",
       "      <td>CPC</td>\n",
       "      <td>False</td>\n",
       "      <td>agency_2</td>\n",
       "      <td>client_47270</td>\n",
       "      <td>campaign_49554</td>\n",
       "      <td>ad_49564</td>\n",
       "      <td>android</td>\n",
       "      <td>2019-04-05</td>\n",
       "      <td>2019-04-05 18:09:36</td>\n",
       "    </tr>\n",
       "  </tbody>\n",
       "</table>\n",
       "</div>"
      ],
      "text/plain": [
       "             time event ad_cost_type  has_video agency_union_id  \\\n",
       "98771  1554482328  view          CPC      False        agency_2   \n",
       "20182  1554486863  view          CPC      False        agency_2   \n",
       "19074  1554487776  view          CPC      False        agency_2   \n",
       "10110  1554487776  view          CPC      False        agency_2   \n",
       "9542   1554487776  view          CPC      False        agency_2   \n",
       "\n",
       "      client_union_id campaign_union_id     ad_id platform        date  \\\n",
       "98771    client_47270    campaign_49554  ad_49564  android  2019-04-05   \n",
       "20182    client_47270    campaign_49554  ad_49564  android  2019-04-05   \n",
       "19074    client_47270    campaign_49554  ad_49560  android  2019-04-05   \n",
       "10110    client_47270    campaign_49554  ad_49560  android  2019-04-05   \n",
       "9542     client_47270    campaign_49554  ad_49564  android  2019-04-05   \n",
       "\n",
       "      time_from_timestamp  \n",
       "98771 2019-04-05 16:38:48  \n",
       "20182 2019-04-05 17:54:23  \n",
       "19074 2019-04-05 18:09:36  \n",
       "10110 2019-04-05 18:09:36  \n",
       "9542  2019-04-05 18:09:36  "
      ]
     },
     "execution_count": 18,
     "metadata": {},
     "output_type": "execute_result"
    }
   ],
   "source": [
    "df_duplicates[df_duplicates.campaign_union_id == 'campaign_49554'].sort_values('time', ascending = True).head()"
   ]
  },
  {
   "cell_type": "markdown",
   "metadata": {},
   "source": [
    "Похоже, что дубликаты есть, но сказать уверенно, что такие записи - дубликаты нельзя, т.к. в исходных данных нет какого-либо уникального идентификатора по каждому событию.\n",
    "\n",
    "Тем не менее, некоторое количичество повторяющихся событий есть."
   ]
  },
  {
   "cell_type": "markdown",
   "metadata": {},
   "source": [
    "Теперь посмотрим на распределение таких признаком как платформа, тип трат и события."
   ]
  },
  {
   "cell_type": "code",
   "execution_count": 19,
   "metadata": {},
   "outputs": [
    {
     "data": {
      "text/html": [
       "<div>\n",
       "<style scoped>\n",
       "    .dataframe tbody tr th:only-of-type {\n",
       "        vertical-align: middle;\n",
       "    }\n",
       "\n",
       "    .dataframe tbody tr th {\n",
       "        vertical-align: top;\n",
       "    }\n",
       "\n",
       "    .dataframe thead th {\n",
       "        text-align: right;\n",
       "    }\n",
       "</style>\n",
       "<table border=\"1\" class=\"dataframe\">\n",
       "  <thead>\n",
       "    <tr style=\"text-align: right;\">\n",
       "      <th></th>\n",
       "      <th>time</th>\n",
       "      <th>event</th>\n",
       "      <th>ad_cost_type</th>\n",
       "      <th>has_video</th>\n",
       "      <th>agency_union_id</th>\n",
       "      <th>client_union_id</th>\n",
       "      <th>campaign_union_id</th>\n",
       "      <th>ad_id</th>\n",
       "      <th>platform</th>\n",
       "      <th>date</th>\n",
       "      <th>time_from_timestamp</th>\n",
       "    </tr>\n",
       "  </thead>\n",
       "  <tbody>\n",
       "    <tr>\n",
       "      <th>0</th>\n",
       "      <td>1554744145</td>\n",
       "      <td>report</td>\n",
       "      <td>CPM</td>\n",
       "      <td>False</td>\n",
       "      <td>no_agency</td>\n",
       "      <td>client_21074</td>\n",
       "      <td>campaign_27489</td>\n",
       "      <td>ad_27489</td>\n",
       "      <td>android</td>\n",
       "      <td>2019-04-08</td>\n",
       "      <td>2019-04-08 17:22:25</td>\n",
       "    </tr>\n",
       "    <tr>\n",
       "      <th>1</th>\n",
       "      <td>1555103458</td>\n",
       "      <td>click</td>\n",
       "      <td>CPM</td>\n",
       "      <td>False</td>\n",
       "      <td>no_agency</td>\n",
       "      <td>client_22392</td>\n",
       "      <td>campaign_35893</td>\n",
       "      <td>ad_35893</td>\n",
       "      <td>android</td>\n",
       "      <td>2019-04-12</td>\n",
       "      <td>2019-04-12 21:10:58</td>\n",
       "    </tr>\n",
       "    <tr>\n",
       "      <th>2</th>\n",
       "      <td>1555402601</td>\n",
       "      <td>click</td>\n",
       "      <td>CPM</td>\n",
       "      <td>False</td>\n",
       "      <td>no_agency</td>\n",
       "      <td>client_16836</td>\n",
       "      <td>campaign_26799</td>\n",
       "      <td>ad_26804</td>\n",
       "      <td>web</td>\n",
       "      <td>2019-04-16</td>\n",
       "      <td>2019-04-16 08:16:41</td>\n",
       "    </tr>\n",
       "    <tr>\n",
       "      <th>3</th>\n",
       "      <td>1554822479</td>\n",
       "      <td>click</td>\n",
       "      <td>CPM</td>\n",
       "      <td>False</td>\n",
       "      <td>no_agency</td>\n",
       "      <td>client_22920</td>\n",
       "      <td>campaign_37146</td>\n",
       "      <td>ad_37146</td>\n",
       "      <td>android</td>\n",
       "      <td>2019-04-09</td>\n",
       "      <td>2019-04-09 15:07:59</td>\n",
       "    </tr>\n",
       "    <tr>\n",
       "      <th>4</th>\n",
       "      <td>1554966717</td>\n",
       "      <td>click</td>\n",
       "      <td>CPM</td>\n",
       "      <td>False</td>\n",
       "      <td>no_agency</td>\n",
       "      <td>client_645</td>\n",
       "      <td>campaign_15893</td>\n",
       "      <td>ad_15944</td>\n",
       "      <td>web</td>\n",
       "      <td>2019-04-11</td>\n",
       "      <td>2019-04-11 07:11:57</td>\n",
       "    </tr>\n",
       "  </tbody>\n",
       "</table>\n",
       "</div>"
      ],
      "text/plain": [
       "         time   event ad_cost_type  has_video agency_union_id client_union_id  \\\n",
       "0  1554744145  report          CPM      False       no_agency    client_21074   \n",
       "1  1555103458   click          CPM      False       no_agency    client_22392   \n",
       "2  1555402601   click          CPM      False       no_agency    client_16836   \n",
       "3  1554822479   click          CPM      False       no_agency    client_22920   \n",
       "4  1554966717   click          CPM      False       no_agency      client_645   \n",
       "\n",
       "  campaign_union_id     ad_id platform        date time_from_timestamp  \n",
       "0    campaign_27489  ad_27489  android  2019-04-08 2019-04-08 17:22:25  \n",
       "1    campaign_35893  ad_35893  android  2019-04-12 2019-04-12 21:10:58  \n",
       "2    campaign_26799  ad_26804      web  2019-04-16 2019-04-16 08:16:41  \n",
       "3    campaign_37146  ad_37146  android  2019-04-09 2019-04-09 15:07:59  \n",
       "4    campaign_15893  ad_15944      web  2019-04-11 2019-04-11 07:11:57  "
      ]
     },
     "execution_count": 19,
     "metadata": {},
     "output_type": "execute_result"
    }
   ],
   "source": [
    "df.head()"
   ]
  },
  {
   "cell_type": "markdown",
   "metadata": {},
   "source": [
    "Определим число вхождений для каждой категории:"
   ]
  },
  {
   "cell_type": "code",
   "execution_count": 20,
   "metadata": {},
   "outputs": [
    {
     "name": "stdout",
     "output_type": "stream",
     "text": [
      "view      87975\n",
      "click     28639\n",
      "report     5483\n",
      "Name: event, dtype: int64\n",
      "CPC    74202\n",
      "CPM    47895\n",
      "Name: ad_cost_type, dtype: int64\n",
      "False    121429\n",
      "True        668\n",
      "Name: has_video, dtype: int64\n",
      "agency_2      50796\n",
      "no_agency     47267\n",
      "agency_33      1813\n",
      "agency_158     1712\n",
      "agency_543     1218\n",
      "Name: agency_union_id, dtype: int64\n",
      "client_47270     47739\n",
      "client_47269      2285\n",
      "client_99583      1732\n",
      "client_42         1493\n",
      "client_102753      874\n",
      "Name: client_union_id, dtype: int64\n",
      "campaign_49554    47739\n",
      "campaign_47269     1867\n",
      "campaign_5822      1012\n",
      "campaign_387        794\n",
      "campaign_1181       698\n",
      "Name: campaign_union_id, dtype: int64\n",
      "ad_49554    27500\n",
      "ad_49556     8218\n",
      "ad_49560     7496\n",
      "ad_49564     4491\n",
      "ad_47269     1867\n",
      "Name: ad_id, dtype: int64\n",
      "android    83312\n",
      "iphone     16628\n",
      "web        14108\n",
      "mvk         7717\n",
      "wphone       332\n",
      "Name: platform, dtype: int64\n"
     ]
    }
   ],
   "source": [
    "for column in df.drop(['time', 'date', 'time_from_timestamp'], axis = 1): \n",
    "    print(df[column].value_counts()[:5])"
   ]
  },
  {
   "cell_type": "markdown",
   "metadata": {},
   "source": [
    "Для большей наглядности посмотрим в виде графиков на распределение типов трат, платформ и событий."
   ]
  },
  {
   "cell_type": "code",
   "execution_count": 21,
   "metadata": {},
   "outputs": [
    {
     "data": {
      "text/plain": [
       "<matplotlib.axes._subplots.AxesSubplot at 0x1c1d16b86a0>"
      ]
     },
     "execution_count": 21,
     "metadata": {},
     "output_type": "execute_result"
    },
    {
     "data": {
      "image/png": "[encoded data removed]",
      "text/plain": [
       "<Figure size 1296x648 with 1 Axes>"
      ]
     },
     "metadata": {},
     "output_type": "display_data"
    }
   ],
   "source": [
    "df.ad_cost_type.value_counts().plot(kind='bar')"
   ]
  },
  {
   "cell_type": "code",
   "execution_count": 22,
   "metadata": {},
   "outputs": [
    {
     "data": {
      "text/plain": [
       "<matplotlib.axes._subplots.AxesSubplot at 0x1c1d1468780>"
      ]
     },
     "execution_count": 22,
     "metadata": {},
     "output_type": "execute_result"
    },
    {
     "data": {
      "image/png": "[encoded data removed]",
      "text/plain": [
       "<Figure size 1296x648 with 1 Axes>"
      ]
     },
     "metadata": {},
     "output_type": "display_data"
    }
   ],
   "source": [
    "df.platform.value_counts().plot(kind='bar')"
   ]
  },
  {
   "cell_type": "code",
   "execution_count": 23,
   "metadata": {},
   "outputs": [
    {
     "data": {
      "text/plain": [
       "<matplotlib.axes._subplots.AxesSubplot at 0x1c1d14c1320>"
      ]
     },
     "execution_count": 23,
     "metadata": {},
     "output_type": "execute_result"
    },
    {
     "data": {
      "image/png": "[encoded data removed]",
      "text/plain": [
       "<Figure size 1296x648 with 1 Axes>"
      ]
     },
     "metadata": {},
     "output_type": "display_data"
    }
   ],
   "source": [
    "df.event.value_counts().plot(kind='bar')"
   ]
  },
  {
   "cell_type": "markdown",
   "metadata": {},
   "source": [
    "Пока, из данных видно, что чаще всего происходили события типа view, основной платформой является android, основной тип трат за объявления - за клик. \n",
    "\n",
    "Также явно выделяется одна рекламная компания с наибольшим количеством действий по нескольким ad_id."
   ]
  },
  {
   "cell_type": "markdown",
   "metadata": {},
   "source": [
    "Посмотрим на данные поближе, а именно как распределяются по дням количество событий, по платформам, по типу трат:"
   ]
  },
  {
   "cell_type": "code",
   "execution_count": 24,
   "metadata": {},
   "outputs": [
    {
     "data": {
      "text/html": [
       "<div>\n",
       "<style scoped>\n",
       "    .dataframe tbody tr th:only-of-type {\n",
       "        vertical-align: middle;\n",
       "    }\n",
       "\n",
       "    .dataframe tbody tr th {\n",
       "        vertical-align: top;\n",
       "    }\n",
       "\n",
       "    .dataframe thead th {\n",
       "        text-align: right;\n",
       "    }\n",
       "</style>\n",
       "<table border=\"1\" class=\"dataframe\">\n",
       "  <thead>\n",
       "    <tr style=\"text-align: right;\">\n",
       "      <th></th>\n",
       "      <th>date</th>\n",
       "      <th>click</th>\n",
       "      <th>report</th>\n",
       "      <th>view</th>\n",
       "      <th>CPC</th>\n",
       "      <th>CPM</th>\n",
       "      <th>android</th>\n",
       "      <th>iphone</th>\n",
       "      <th>mvk</th>\n",
       "      <th>web</th>\n",
       "      <th>wphone</th>\n",
       "    </tr>\n",
       "  </thead>\n",
       "  <tbody>\n",
       "    <tr>\n",
       "      <th>0</th>\n",
       "      <td>2019-04-01</td>\n",
       "      <td>1827</td>\n",
       "      <td>362</td>\n",
       "      <td>2983</td>\n",
       "      <td>1866</td>\n",
       "      <td>3306</td>\n",
       "      <td>3411</td>\n",
       "      <td>750</td>\n",
       "      <td>255</td>\n",
       "      <td>733</td>\n",
       "      <td>23</td>\n",
       "    </tr>\n",
       "    <tr>\n",
       "      <th>1</th>\n",
       "      <td>2019-04-02</td>\n",
       "      <td>1898</td>\n",
       "      <td>366</td>\n",
       "      <td>3005</td>\n",
       "      <td>1786</td>\n",
       "      <td>3483</td>\n",
       "      <td>3446</td>\n",
       "      <td>807</td>\n",
       "      <td>275</td>\n",
       "      <td>717</td>\n",
       "      <td>24</td>\n",
       "    </tr>\n",
       "    <tr>\n",
       "      <th>2</th>\n",
       "      <td>2019-04-03</td>\n",
       "      <td>1837</td>\n",
       "      <td>304</td>\n",
       "      <td>3216</td>\n",
       "      <td>2005</td>\n",
       "      <td>3352</td>\n",
       "      <td>3482</td>\n",
       "      <td>875</td>\n",
       "      <td>251</td>\n",
       "      <td>736</td>\n",
       "      <td>13</td>\n",
       "    </tr>\n",
       "    <tr>\n",
       "      <th>3</th>\n",
       "      <td>2019-04-04</td>\n",
       "      <td>1871</td>\n",
       "      <td>368</td>\n",
       "      <td>2869</td>\n",
       "      <td>1975</td>\n",
       "      <td>3133</td>\n",
       "      <td>3343</td>\n",
       "      <td>813</td>\n",
       "      <td>235</td>\n",
       "      <td>695</td>\n",
       "      <td>22</td>\n",
       "    </tr>\n",
       "    <tr>\n",
       "      <th>4</th>\n",
       "      <td>2019-04-05</td>\n",
       "      <td>2188</td>\n",
       "      <td>432</td>\n",
       "      <td>2685</td>\n",
       "      <td>1947</td>\n",
       "      <td>3358</td>\n",
       "      <td>3491</td>\n",
       "      <td>827</td>\n",
       "      <td>309</td>\n",
       "      <td>656</td>\n",
       "      <td>22</td>\n",
       "    </tr>\n",
       "    <tr>\n",
       "      <th>5</th>\n",
       "      <td>2019-04-06</td>\n",
       "      <td>1577</td>\n",
       "      <td>300</td>\n",
       "      <td>2078</td>\n",
       "      <td>1492</td>\n",
       "      <td>2463</td>\n",
       "      <td>2656</td>\n",
       "      <td>612</td>\n",
       "      <td>202</td>\n",
       "      <td>471</td>\n",
       "      <td>14</td>\n",
       "    </tr>\n",
       "    <tr>\n",
       "      <th>6</th>\n",
       "      <td>2019-04-07</td>\n",
       "      <td>1510</td>\n",
       "      <td>297</td>\n",
       "      <td>2284</td>\n",
       "      <td>1567</td>\n",
       "      <td>2524</td>\n",
       "      <td>2712</td>\n",
       "      <td>638</td>\n",
       "      <td>229</td>\n",
       "      <td>493</td>\n",
       "      <td>19</td>\n",
       "    </tr>\n",
       "    <tr>\n",
       "      <th>7</th>\n",
       "      <td>2019-04-08</td>\n",
       "      <td>1545</td>\n",
       "      <td>311</td>\n",
       "      <td>7046</td>\n",
       "      <td>6134</td>\n",
       "      <td>2768</td>\n",
       "      <td>5530</td>\n",
       "      <td>1662</td>\n",
       "      <td>644</td>\n",
       "      <td>1049</td>\n",
       "      <td>17</td>\n",
       "    </tr>\n",
       "    <tr>\n",
       "      <th>8</th>\n",
       "      <td>2019-04-09</td>\n",
       "      <td>1784</td>\n",
       "      <td>351</td>\n",
       "      <td>5828</td>\n",
       "      <td>5002</td>\n",
       "      <td>2961</td>\n",
       "      <td>5105</td>\n",
       "      <td>1284</td>\n",
       "      <td>560</td>\n",
       "      <td>993</td>\n",
       "      <td>21</td>\n",
       "    </tr>\n",
       "    <tr>\n",
       "      <th>9</th>\n",
       "      <td>2019-04-10</td>\n",
       "      <td>1909</td>\n",
       "      <td>347</td>\n",
       "      <td>4842</td>\n",
       "      <td>4014</td>\n",
       "      <td>3084</td>\n",
       "      <td>4556</td>\n",
       "      <td>1141</td>\n",
       "      <td>466</td>\n",
       "      <td>905</td>\n",
       "      <td>30</td>\n",
       "    </tr>\n",
       "    <tr>\n",
       "      <th>10</th>\n",
       "      <td>2019-04-11</td>\n",
       "      <td>1811</td>\n",
       "      <td>351</td>\n",
       "      <td>16097</td>\n",
       "      <td>15383</td>\n",
       "      <td>2876</td>\n",
       "      <td>12945</td>\n",
       "      <td>2141</td>\n",
       "      <td>1271</td>\n",
       "      <td>1885</td>\n",
       "      <td>17</td>\n",
       "    </tr>\n",
       "    <tr>\n",
       "      <th>11</th>\n",
       "      <td>2019-04-12</td>\n",
       "      <td>1840</td>\n",
       "      <td>315</td>\n",
       "      <td>8585</td>\n",
       "      <td>7801</td>\n",
       "      <td>2939</td>\n",
       "      <td>7851</td>\n",
       "      <td>1038</td>\n",
       "      <td>714</td>\n",
       "      <td>1109</td>\n",
       "      <td>28</td>\n",
       "    </tr>\n",
       "    <tr>\n",
       "      <th>12</th>\n",
       "      <td>2019-04-13</td>\n",
       "      <td>1427</td>\n",
       "      <td>273</td>\n",
       "      <td>9299</td>\n",
       "      <td>8638</td>\n",
       "      <td>2361</td>\n",
       "      <td>8222</td>\n",
       "      <td>1092</td>\n",
       "      <td>774</td>\n",
       "      <td>886</td>\n",
       "      <td>25</td>\n",
       "    </tr>\n",
       "    <tr>\n",
       "      <th>13</th>\n",
       "      <td>2019-04-14</td>\n",
       "      <td>1540</td>\n",
       "      <td>284</td>\n",
       "      <td>6832</td>\n",
       "      <td>6058</td>\n",
       "      <td>2598</td>\n",
       "      <td>6269</td>\n",
       "      <td>941</td>\n",
       "      <td>593</td>\n",
       "      <td>836</td>\n",
       "      <td>17</td>\n",
       "    </tr>\n",
       "    <tr>\n",
       "      <th>14</th>\n",
       "      <td>2019-04-15</td>\n",
       "      <td>1742</td>\n",
       "      <td>325</td>\n",
       "      <td>5390</td>\n",
       "      <td>4535</td>\n",
       "      <td>2922</td>\n",
       "      <td>5186</td>\n",
       "      <td>850</td>\n",
       "      <td>452</td>\n",
       "      <td>955</td>\n",
       "      <td>14</td>\n",
       "    </tr>\n",
       "    <tr>\n",
       "      <th>15</th>\n",
       "      <td>2019-04-16</td>\n",
       "      <td>2333</td>\n",
       "      <td>497</td>\n",
       "      <td>4936</td>\n",
       "      <td>3999</td>\n",
       "      <td>3767</td>\n",
       "      <td>5107</td>\n",
       "      <td>1157</td>\n",
       "      <td>487</td>\n",
       "      <td>989</td>\n",
       "      <td>26</td>\n",
       "    </tr>\n",
       "  </tbody>\n",
       "</table>\n",
       "</div>"
      ],
      "text/plain": [
       "          date  click  report   view    CPC   CPM  android  iphone   mvk  \\\n",
       "0   2019-04-01   1827     362   2983   1866  3306     3411     750   255   \n",
       "1   2019-04-02   1898     366   3005   1786  3483     3446     807   275   \n",
       "2   2019-04-03   1837     304   3216   2005  3352     3482     875   251   \n",
       "3   2019-04-04   1871     368   2869   1975  3133     3343     813   235   \n",
       "4   2019-04-05   2188     432   2685   1947  3358     3491     827   309   \n",
       "5   2019-04-06   1577     300   2078   1492  2463     2656     612   202   \n",
       "6   2019-04-07   1510     297   2284   1567  2524     2712     638   229   \n",
       "7   2019-04-08   1545     311   7046   6134  2768     5530    1662   644   \n",
       "8   2019-04-09   1784     351   5828   5002  2961     5105    1284   560   \n",
       "9   2019-04-10   1909     347   4842   4014  3084     4556    1141   466   \n",
       "10  2019-04-11   1811     351  16097  15383  2876    12945    2141  1271   \n",
       "11  2019-04-12   1840     315   8585   7801  2939     7851    1038   714   \n",
       "12  2019-04-13   1427     273   9299   8638  2361     8222    1092   774   \n",
       "13  2019-04-14   1540     284   6832   6058  2598     6269     941   593   \n",
       "14  2019-04-15   1742     325   5390   4535  2922     5186     850   452   \n",
       "15  2019-04-16   2333     497   4936   3999  3767     5107    1157   487   \n",
       "\n",
       "     web  wphone  \n",
       "0    733      23  \n",
       "1    717      24  \n",
       "2    736      13  \n",
       "3    695      22  \n",
       "4    656      22  \n",
       "5    471      14  \n",
       "6    493      19  \n",
       "7   1049      17  \n",
       "8    993      21  \n",
       "9    905      30  \n",
       "10  1885      17  \n",
       "11  1109      28  \n",
       "12   886      25  \n",
       "13   836      17  \n",
       "14   955      14  \n",
       "15   989      26  "
      ]
     },
     "execution_count": 24,
     "metadata": {},
     "output_type": "execute_result"
    }
   ],
   "source": [
    "adcost_data = df.pivot_table(index='date',\n",
    "                                   columns='ad_cost_type',\n",
    "                                   values='event',\n",
    "                                   aggfunc='count')\n",
    "\n",
    "events_data = df.pivot_table(index='date',\n",
    "                                   columns='event',\n",
    "                                   values='platform',\n",
    "                                   aggfunc='count').reset_index()\n",
    "\n",
    "count_by_platform = df.pivot_table(index='date',\n",
    "                                   columns='platform',\n",
    "                                   values='event',\n",
    "                                   aggfunc='count').reset_index()\n",
    "\n",
    "'''\n",
    ".agg({'platform' : 'count',\n",
    "     'event' : ['min', 'max', 'mean', 'count']     \n",
    "     })\n",
    "'''\n",
    "\n",
    "events_data = events_data.merge(adcost_data, how = 'outer',on='date')\n",
    "\n",
    "events_data = events_data.merge(count_by_platform, how = 'outer',on='date')\n",
    "\n",
    "events_data"
   ]
  },
  {
   "cell_type": "code",
   "execution_count": 25,
   "metadata": {},
   "outputs": [
    {
     "data": {
      "text/plain": [
       "Text(0, 0.5, 'Count')"
      ]
     },
     "execution_count": 25,
     "metadata": {},
     "output_type": "execute_result"
    },
    {
     "data": {
      "image/png": "[encoded data removed]",
      "text/plain": [
       "<Figure size 1296x648 with 1 Axes>"
      ]
     },
     "metadata": {},
     "output_type": "display_data"
    }
   ],
   "source": [
    "ax = events_data.drop(['android','iphone','mvk','web','wphone'], axis = 1)\\\n",
    ".plot(x = 'date', kind = 'line')\n",
    "\n",
    "ax.legend(loc=2, prop={'size': 14})\n",
    "ax.set_title('Events and ad_cost_type')\n",
    "ax.set_xlabel('Дни')\n",
    "ax.set_ylabel('Count')"
   ]
  },
  {
   "cell_type": "markdown",
   "metadata": {},
   "source": [
    "Как видно из таблицы, 11 апреля, количество событий view резко выросло.\n",
    "Распределение роста по самым популярным платформам составило примерно 2-3 раза.\n",
    "\n",
    "При этом вместе с ростом количества событий view также выросло значение CPC, понятно, что эти величины взаимосвязаны, но, так, чтобы рост был почти 1 в 1, выглядит несколько странно."
   ]
  },
  {
   "cell_type": "markdown",
   "metadata": {},
   "source": [
    "Поэтому посмотрим распределение CPC/CPM к количеству типов событий по дням."
   ]
  },
  {
   "cell_type": "code",
   "execution_count": 26,
   "metadata": {},
   "outputs": [
    {
     "data": {
      "text/html": [
       "<div>\n",
       "<style scoped>\n",
       "    .dataframe tbody tr th:only-of-type {\n",
       "        vertical-align: middle;\n",
       "    }\n",
       "\n",
       "    .dataframe tbody tr th {\n",
       "        vertical-align: top;\n",
       "    }\n",
       "\n",
       "    .dataframe thead th {\n",
       "        text-align: right;\n",
       "    }\n",
       "</style>\n",
       "<table border=\"1\" class=\"dataframe\">\n",
       "  <thead>\n",
       "    <tr style=\"text-align: right;\">\n",
       "      <th></th>\n",
       "      <th>date</th>\n",
       "      <th>ad_cost_type</th>\n",
       "      <th>event</th>\n",
       "      <th>count</th>\n",
       "    </tr>\n",
       "  </thead>\n",
       "  <tbody>\n",
       "    <tr>\n",
       "      <th>0</th>\n",
       "      <td>2019-04-01</td>\n",
       "      <td>CPC</td>\n",
       "      <td>click</td>\n",
       "      <td>117</td>\n",
       "    </tr>\n",
       "    <tr>\n",
       "      <th>1</th>\n",
       "      <td>2019-04-01</td>\n",
       "      <td>CPC</td>\n",
       "      <td>report</td>\n",
       "      <td>17</td>\n",
       "    </tr>\n",
       "    <tr>\n",
       "      <th>2</th>\n",
       "      <td>2019-04-01</td>\n",
       "      <td>CPC</td>\n",
       "      <td>view</td>\n",
       "      <td>1732</td>\n",
       "    </tr>\n",
       "    <tr>\n",
       "      <th>3</th>\n",
       "      <td>2019-04-01</td>\n",
       "      <td>CPM</td>\n",
       "      <td>click</td>\n",
       "      <td>1710</td>\n",
       "    </tr>\n",
       "  </tbody>\n",
       "</table>\n",
       "</div>"
      ],
      "text/plain": [
       "        date ad_cost_type   event  count\n",
       "0 2019-04-01          CPC   click    117\n",
       "1 2019-04-01          CPC  report     17\n",
       "2 2019-04-01          CPC    view   1732\n",
       "3 2019-04-01          CPM   click   1710"
      ]
     },
     "execution_count": 26,
     "metadata": {},
     "output_type": "execute_result"
    }
   ],
   "source": [
    "groupped_by_events = df.groupby(['date', 'ad_cost_type', 'event'], as_index=False)\\\n",
    ".agg({'time' : 'count'})\\\n",
    ".rename(columns = {'time' : 'count'})\n",
    "\n",
    "# request = groupped_by_events.event != 'report'\n",
    "# groupped_by_events.query(expr='@request', inplace=True)\n",
    "\n",
    "groupped_by_events[\"date\"] = groupped_by_events[\"date\"].astype(\"datetime64\")\n",
    "\n",
    "groupped_by_events.head(4)"
   ]
  },
  {
   "cell_type": "code",
   "execution_count": 27,
   "metadata": {},
   "outputs": [
    {
     "data": {
      "text/plain": [
       "Text(0, 0.5, 'Count')"
      ]
     },
     "execution_count": 27,
     "metadata": {},
     "output_type": "execute_result"
    },
    {
     "data": {
      "image/png": "[encoded data removed]",
      "text/plain": [
       "<Figure size 1296x648 with 1 Axes>"
      ]
     },
     "metadata": {},
     "output_type": "display_data"
    }
   ],
   "source": [
    "ax = sns.lineplot(x = 'date', y = 'count', hue = 'event', \\\n",
    "             data = groupped_by_events[groupped_by_events.ad_cost_type == 'CPC'].drop('ad_cost_type',axis = 1))\n",
    "ax.legend(loc=2, prop={'size': 14})\n",
    "ax.set_title('CPC to click/view')\n",
    "ax.set_xlabel('Дни')\n",
    "ax.set_ylabel('Count')"
   ]
  },
  {
   "cell_type": "code",
   "execution_count": 28,
   "metadata": {},
   "outputs": [
    {
     "data": {
      "text/plain": [
       "Text(0, 0.5, 'Count')"
      ]
     },
     "execution_count": 28,
     "metadata": {},
     "output_type": "execute_result"
    },
    {
     "data": {
      "image/png": "[encoded data removed]",
      "text/plain": [
       "<Figure size 1296x648 with 1 Axes>"
      ]
     },
     "metadata": {},
     "output_type": "display_data"
    }
   ],
   "source": [
    "ax = sns.lineplot(x = 'date', y = 'count', hue = 'event', \\\n",
    "                  data = groupped_by_events[groupped_by_events.ad_cost_type == 'CPM'].drop('ad_cost_type',axis = 1))\n",
    "\n",
    "ax.legend(loc=2, prop={'size': 14})\n",
    "ax.set_title('CPM to click/view')\n",
    "ax.set_xlabel('Дни')\n",
    "ax.set_ylabel('Count')"
   ]
  },
  {
   "cell_type": "code",
   "execution_count": 29,
   "metadata": {},
   "outputs": [
    {
     "data": {
      "text/plain": [
       "Text(0, 0.5, 'Count')"
      ]
     },
     "execution_count": 29,
     "metadata": {},
     "output_type": "execute_result"
    },
    {
     "data": {
      "image/png": "[encoded data removed]",
      "text/plain": [
       "<Figure size 1296x648 with 1 Axes>"
      ]
     },
     "metadata": {},
     "output_type": "display_data"
    }
   ],
   "source": [
    "ax = sns.lineplot(x = 'date', y = 'count',hue = 'ad_cost_type' ,data = groupped_by_events)\n",
    "\n",
    "ax.legend(loc=2, prop={'size': 14})\n",
    "ax.set_title('CPC/CPM events')\n",
    "ax.set_xlabel('Дни')\n",
    "ax.set_ylabel('Count')"
   ]
  },
  {
   "cell_type": "markdown",
   "metadata": {},
   "source": [
    "Вывод: наибольший вклад дают события типа CPC - view (хотя странно, что кликов при этом относительно мало).\n",
    "\n",
    "Либо же, события CPC/CPM и click/view поменяны местами (в т.ч. и для агенства_2).\n",
    "\n",
    "График для CPM больше похож на распределение кликов и просмотров (где вместо кликов - просмотры), тогда как CPC в точности наоборот."
   ]
  },
  {
   "cell_type": "markdown",
   "metadata": {},
   "source": [
    "Возможно есть какой-либо сбой по рекламному объявлению, имеющему наиболее количество событий?\n",
    "\n",
    "Например смена агенства, рекламной кампании или же клиент как-либо изменился?"
   ]
  },
  {
   "cell_type": "code",
   "execution_count": 30,
   "metadata": {},
   "outputs": [
    {
     "data": {
      "text/html": [
       "<div>\n",
       "<style scoped>\n",
       "    .dataframe tbody tr th:only-of-type {\n",
       "        vertical-align: middle;\n",
       "    }\n",
       "\n",
       "    .dataframe tbody tr th {\n",
       "        vertical-align: top;\n",
       "    }\n",
       "\n",
       "    .dataframe thead th {\n",
       "        text-align: right;\n",
       "    }\n",
       "</style>\n",
       "<table border=\"1\" class=\"dataframe\">\n",
       "  <thead>\n",
       "    <tr style=\"text-align: right;\">\n",
       "      <th></th>\n",
       "      <th>time</th>\n",
       "      <th>event</th>\n",
       "      <th>ad_cost_type</th>\n",
       "      <th>has_video</th>\n",
       "      <th>agency_union_id</th>\n",
       "      <th>client_union_id</th>\n",
       "      <th>campaign_union_id</th>\n",
       "      <th>ad_id</th>\n",
       "      <th>platform</th>\n",
       "      <th>date</th>\n",
       "      <th>time_from_timestamp</th>\n",
       "    </tr>\n",
       "  </thead>\n",
       "  <tbody>\n",
       "    <tr>\n",
       "      <th>11</th>\n",
       "      <td>1555169778</td>\n",
       "      <td>view</td>\n",
       "      <td>CPC</td>\n",
       "      <td>False</td>\n",
       "      <td>agency_2</td>\n",
       "      <td>client_47270</td>\n",
       "      <td>campaign_49554</td>\n",
       "      <td>ad_49554</td>\n",
       "      <td>android</td>\n",
       "      <td>2019-04-13</td>\n",
       "      <td>2019-04-13 15:36:18</td>\n",
       "    </tr>\n",
       "    <tr>\n",
       "      <th>14</th>\n",
       "      <td>1555251921</td>\n",
       "      <td>view</td>\n",
       "      <td>CPC</td>\n",
       "      <td>False</td>\n",
       "      <td>agency_2</td>\n",
       "      <td>client_47270</td>\n",
       "      <td>campaign_49554</td>\n",
       "      <td>ad_49554</td>\n",
       "      <td>android</td>\n",
       "      <td>2019-04-14</td>\n",
       "      <td>2019-04-14 14:25:21</td>\n",
       "    </tr>\n",
       "    <tr>\n",
       "      <th>19</th>\n",
       "      <td>1555011001</td>\n",
       "      <td>view</td>\n",
       "      <td>CPC</td>\n",
       "      <td>False</td>\n",
       "      <td>agency_2</td>\n",
       "      <td>client_47270</td>\n",
       "      <td>campaign_49554</td>\n",
       "      <td>ad_49554</td>\n",
       "      <td>android</td>\n",
       "      <td>2019-04-11</td>\n",
       "      <td>2019-04-11 19:30:01</td>\n",
       "    </tr>\n",
       "    <tr>\n",
       "      <th>20</th>\n",
       "      <td>1555061106</td>\n",
       "      <td>view</td>\n",
       "      <td>CPC</td>\n",
       "      <td>False</td>\n",
       "      <td>agency_2</td>\n",
       "      <td>client_47270</td>\n",
       "      <td>campaign_49554</td>\n",
       "      <td>ad_49554</td>\n",
       "      <td>android</td>\n",
       "      <td>2019-04-12</td>\n",
       "      <td>2019-04-12 09:25:06</td>\n",
       "    </tr>\n",
       "    <tr>\n",
       "      <th>22</th>\n",
       "      <td>1554977283</td>\n",
       "      <td>view</td>\n",
       "      <td>CPC</td>\n",
       "      <td>False</td>\n",
       "      <td>agency_2</td>\n",
       "      <td>client_47270</td>\n",
       "      <td>campaign_49554</td>\n",
       "      <td>ad_49554</td>\n",
       "      <td>android</td>\n",
       "      <td>2019-04-11</td>\n",
       "      <td>2019-04-11 10:08:03</td>\n",
       "    </tr>\n",
       "  </tbody>\n",
       "</table>\n",
       "</div>"
      ],
      "text/plain": [
       "          time event ad_cost_type  has_video agency_union_id client_union_id  \\\n",
       "11  1555169778  view          CPC      False        agency_2    client_47270   \n",
       "14  1555251921  view          CPC      False        agency_2    client_47270   \n",
       "19  1555011001  view          CPC      False        agency_2    client_47270   \n",
       "20  1555061106  view          CPC      False        agency_2    client_47270   \n",
       "22  1554977283  view          CPC      False        agency_2    client_47270   \n",
       "\n",
       "   campaign_union_id     ad_id platform        date time_from_timestamp  \n",
       "11    campaign_49554  ad_49554  android  2019-04-13 2019-04-13 15:36:18  \n",
       "14    campaign_49554  ad_49554  android  2019-04-14 2019-04-14 14:25:21  \n",
       "19    campaign_49554  ad_49554  android  2019-04-11 2019-04-11 19:30:01  \n",
       "20    campaign_49554  ad_49554  android  2019-04-12 2019-04-12 09:25:06  \n",
       "22    campaign_49554  ad_49554  android  2019-04-11 2019-04-11 10:08:03  "
      ]
     },
     "execution_count": 30,
     "metadata": {},
     "output_type": "execute_result"
    }
   ],
   "source": [
    "# пересечение по no_agency - есть agency\n",
    "df[df.ad_id == 'ad_49554'].head()"
   ]
  },
  {
   "cell_type": "code",
   "execution_count": 31,
   "metadata": {},
   "outputs": [
    {
     "name": "stdout",
     "output_type": "stream",
     "text": [
      "['view' 'click' 'report']\n",
      "['CPC']\n",
      "[False]\n",
      "['agency_2']\n",
      "['client_47270']\n",
      "['campaign_49554']\n",
      "['ad_49564' 'ad_49554' 'ad_49556' 'ad_49560' 'ad_50872']\n",
      "['web' 'android' 'mvk' 'iphone']\n",
      "['2019-04-08' '2019-04-13' '2019-04-14' '2019-04-11' '2019-04-12'\n",
      " '2019-04-16' '2019-04-09' '2019-04-15' '2019-04-10' '2019-04-05']\n"
     ]
    }
   ],
   "source": [
    "for column in df[df.client_union_id == 'client_47270'].drop(['time', 'time_from_timestamp'], axis = 1): \n",
    "    print(df[df.client_union_id == 'client_47270'][column].unique())"
   ]
  },
  {
   "cell_type": "code",
   "execution_count": 32,
   "metadata": {},
   "outputs": [
    {
     "name": "stdout",
     "output_type": "stream",
     "text": [
      "view      47688\n",
      "click        45\n",
      "report        6\n",
      "Name: event, dtype: int64\n",
      "CPC    47739\n",
      "Name: ad_cost_type, dtype: int64\n",
      "False    47739\n",
      "Name: has_video, dtype: int64\n",
      "agency_2    47739\n",
      "Name: agency_union_id, dtype: int64\n",
      "client_47270    47739\n",
      "Name: client_union_id, dtype: int64\n",
      "campaign_49554    47739\n",
      "Name: campaign_union_id, dtype: int64\n",
      "ad_49554    27500\n",
      "ad_49556     8218\n",
      "ad_49560     7496\n",
      "Name: ad_id, dtype: int64\n",
      "android    34685\n",
      "iphone      4971\n",
      "web         4159\n",
      "Name: platform, dtype: int64\n",
      "2019-04-11    13941\n",
      "2019-04-13     7593\n",
      "2019-04-12     6698\n",
      "Name: date, dtype: int64\n"
     ]
    }
   ],
   "source": [
    "for column in df[df.campaign_union_id == 'campaign_49554'].drop(['time', 'time_from_timestamp'], axis = 1): \n",
    "    print(df[df.campaign_union_id == 'campaign_49554'][column].value_counts()[:3])"
   ]
  },
  {
   "cell_type": "code",
   "execution_count": 33,
   "metadata": {},
   "outputs": [
    {
     "name": "stdout",
     "output_type": "stream",
     "text": [
      "['view' 'report' 'click']\n",
      "['CPC']\n",
      "[False]\n",
      "['agency_2']\n",
      "['client_47270']\n",
      "['campaign_49554']\n",
      "['ad_49554']\n",
      "['android' 'mvk' 'web' 'iphone']\n",
      "['2019-04-13' '2019-04-14' '2019-04-11' '2019-04-12' '2019-04-16'\n",
      " '2019-04-15' '2019-04-10']\n"
     ]
    }
   ],
   "source": [
    "for column in df[df.ad_id == 'ad_49554'].drop(['time', 'time_from_timestamp'], axis = 1): \n",
    "    print(df[df.ad_id == 'ad_49554'][column].unique())"
   ]
  },
  {
   "cell_type": "code",
   "execution_count": 34,
   "metadata": {},
   "outputs": [
    {
     "name": "stdout",
     "output_type": "stream",
     "text": [
      "view      27464\n",
      "click        31\n",
      "report        5\n",
      "Name: event, dtype: int64\n",
      "CPC    27500\n",
      "Name: ad_cost_type, dtype: int64\n",
      "False    27500\n",
      "Name: has_video, dtype: int64\n",
      "agency_2    27500\n",
      "Name: agency_union_id, dtype: int64\n",
      "client_47270    27500\n",
      "Name: client_union_id, dtype: int64\n",
      "campaign_49554    27500\n",
      "Name: campaign_union_id, dtype: int64\n",
      "ad_49554    27500\n",
      "Name: ad_id, dtype: int64\n",
      "android    21042\n",
      "iphone      2197\n",
      "mvk         2154\n",
      "web         2107\n",
      "Name: platform, dtype: int64\n",
      "2019-04-11    9640\n",
      "2019-04-13    6275\n",
      "2019-04-12    4868\n",
      "2019-04-14    3693\n",
      "2019-04-15    2364\n",
      "2019-04-16     388\n",
      "2019-04-10     272\n",
      "Name: date, dtype: int64\n"
     ]
    }
   ],
   "source": [
    "for column in df[df.ad_id == 'ad_49554'].drop(['time', 'time_from_timestamp'], axis = 1): \n",
    "    print(df[df.ad_id == 'ad_49554'][column].value_counts())"
   ]
  },
  {
   "cell_type": "markdown",
   "metadata": {},
   "source": [
    "Что отдельно стоит отметить, рекламные объявления ad_49554 и ad_49556 проходит по типу трат - CPC и при этом состоит почти полностью из просмотров."
   ]
  },
  {
   "cell_type": "code",
   "execution_count": 35,
   "metadata": {},
   "outputs": [],
   "source": [
    "df_uni = df.groupby('ad_id', as_index=False).\\\n",
    "agg({'campaign_union_id' : 'unique',\n",
    "     'agency_union_id' : 'unique',\n",
    "     'client_union_id' : 'unique',\n",
    "    'event' : 'count'})"
   ]
  },
  {
   "cell_type": "code",
   "execution_count": 36,
   "metadata": {},
   "outputs": [
    {
     "data": {
      "text/html": [
       "<div>\n",
       "<style scoped>\n",
       "    .dataframe tbody tr th:only-of-type {\n",
       "        vertical-align: middle;\n",
       "    }\n",
       "\n",
       "    .dataframe tbody tr th {\n",
       "        vertical-align: top;\n",
       "    }\n",
       "\n",
       "    .dataframe thead th {\n",
       "        text-align: right;\n",
       "    }\n",
       "</style>\n",
       "<table border=\"1\" class=\"dataframe\">\n",
       "  <thead>\n",
       "    <tr style=\"text-align: right;\">\n",
       "      <th></th>\n",
       "      <th>ad_id</th>\n",
       "      <th>campaign_union_id</th>\n",
       "      <th>agency_union_id</th>\n",
       "      <th>client_union_id</th>\n",
       "      <th>event</th>\n",
       "    </tr>\n",
       "  </thead>\n",
       "  <tbody>\n",
       "    <tr>\n",
       "      <th>17441</th>\n",
       "      <td>ad_49554</td>\n",
       "      <td>[campaign_49554]</td>\n",
       "      <td>[agency_2]</td>\n",
       "      <td>[client_47270]</td>\n",
       "      <td>27500</td>\n",
       "    </tr>\n",
       "    <tr>\n",
       "      <th>17442</th>\n",
       "      <td>ad_49556</td>\n",
       "      <td>[campaign_49554]</td>\n",
       "      <td>[agency_2]</td>\n",
       "      <td>[client_47270]</td>\n",
       "      <td>8218</td>\n",
       "    </tr>\n",
       "    <tr>\n",
       "      <th>17443</th>\n",
       "      <td>ad_49560</td>\n",
       "      <td>[campaign_49554]</td>\n",
       "      <td>[agency_2]</td>\n",
       "      <td>[client_47270]</td>\n",
       "      <td>7496</td>\n",
       "    </tr>\n",
       "    <tr>\n",
       "      <th>17444</th>\n",
       "      <td>ad_49564</td>\n",
       "      <td>[campaign_49554]</td>\n",
       "      <td>[agency_2]</td>\n",
       "      <td>[client_47270]</td>\n",
       "      <td>4491</td>\n",
       "    </tr>\n",
       "    <tr>\n",
       "      <th>17414</th>\n",
       "      <td>ad_47269</td>\n",
       "      <td>[campaign_47269]</td>\n",
       "      <td>[agency_2]</td>\n",
       "      <td>[client_47269]</td>\n",
       "      <td>1867</td>\n",
       "    </tr>\n",
       "    <tr>\n",
       "      <th>18046</th>\n",
       "      <td>ad_99643</td>\n",
       "      <td>[campaign_99643]</td>\n",
       "      <td>[agency_33]</td>\n",
       "      <td>[client_99583]</td>\n",
       "      <td>577</td>\n",
       "    </tr>\n",
       "    <tr>\n",
       "      <th>17545</th>\n",
       "      <td>ad_7701</td>\n",
       "      <td>[campaign_7701]</td>\n",
       "      <td>[no_agency]</td>\n",
       "      <td>[client_48]</td>\n",
       "      <td>559</td>\n",
       "    </tr>\n",
       "    <tr>\n",
       "      <th>7324</th>\n",
       "      <td>ad_21831</td>\n",
       "      <td>[campaign_21831]</td>\n",
       "      <td>[no_agency]</td>\n",
       "      <td>[client_3313]</td>\n",
       "      <td>491</td>\n",
       "    </tr>\n",
       "    <tr>\n",
       "      <th>11782</th>\n",
       "      <td>ad_387</td>\n",
       "      <td>[campaign_387]</td>\n",
       "      <td>[no_agency]</td>\n",
       "      <td>[client_6]</td>\n",
       "      <td>461</td>\n",
       "    </tr>\n",
       "    <tr>\n",
       "      <th>3917</th>\n",
       "      <td>ad_1181</td>\n",
       "      <td>[campaign_1181]</td>\n",
       "      <td>[no_agency]</td>\n",
       "      <td>[client_7]</td>\n",
       "      <td>441</td>\n",
       "    </tr>\n",
       "    <tr>\n",
       "      <th>17432</th>\n",
       "      <td>ad_49136</td>\n",
       "      <td>[campaign_47279]</td>\n",
       "      <td>[agency_2]</td>\n",
       "      <td>[client_47269]</td>\n",
       "      <td>418</td>\n",
       "    </tr>\n",
       "    <tr>\n",
       "      <th>17476</th>\n",
       "      <td>ad_5131</td>\n",
       "      <td>[campaign_5131]</td>\n",
       "      <td>[no_agency]</td>\n",
       "      <td>[client_40]</td>\n",
       "      <td>397</td>\n",
       "    </tr>\n",
       "    <tr>\n",
       "      <th>17562</th>\n",
       "      <td>ad_8339</td>\n",
       "      <td>[campaign_8339]</td>\n",
       "      <td>[no_agency]</td>\n",
       "      <td>[client_51]</td>\n",
       "      <td>376</td>\n",
       "    </tr>\n",
       "    <tr>\n",
       "      <th>17684</th>\n",
       "      <td>ad_97427</td>\n",
       "      <td>[campaign_97294]</td>\n",
       "      <td>[agency_2]</td>\n",
       "      <td>[client_47296]</td>\n",
       "      <td>357</td>\n",
       "    </tr>\n",
       "    <tr>\n",
       "      <th>17497</th>\n",
       "      <td>ad_6308</td>\n",
       "      <td>[campaign_5822]</td>\n",
       "      <td>[no_agency]</td>\n",
       "      <td>[client_42]</td>\n",
       "      <td>346</td>\n",
       "    </tr>\n",
       "  </tbody>\n",
       "</table>\n",
       "</div>"
      ],
      "text/plain": [
       "          ad_id campaign_union_id agency_union_id client_union_id  event\n",
       "17441  ad_49554  [campaign_49554]      [agency_2]  [client_47270]  27500\n",
       "17442  ad_49556  [campaign_49554]      [agency_2]  [client_47270]   8218\n",
       "17443  ad_49560  [campaign_49554]      [agency_2]  [client_47270]   7496\n",
       "17444  ad_49564  [campaign_49554]      [agency_2]  [client_47270]   4491\n",
       "17414  ad_47269  [campaign_47269]      [agency_2]  [client_47269]   1867\n",
       "18046  ad_99643  [campaign_99643]     [agency_33]  [client_99583]    577\n",
       "17545   ad_7701   [campaign_7701]     [no_agency]     [client_48]    559\n",
       "7324   ad_21831  [campaign_21831]     [no_agency]   [client_3313]    491\n",
       "11782    ad_387    [campaign_387]     [no_agency]      [client_6]    461\n",
       "3917    ad_1181   [campaign_1181]     [no_agency]      [client_7]    441\n",
       "17432  ad_49136  [campaign_47279]      [agency_2]  [client_47269]    418\n",
       "17476   ad_5131   [campaign_5131]     [no_agency]     [client_40]    397\n",
       "17562   ad_8339   [campaign_8339]     [no_agency]     [client_51]    376\n",
       "17684  ad_97427  [campaign_97294]      [agency_2]  [client_47296]    357\n",
       "17497   ad_6308   [campaign_5822]     [no_agency]     [client_42]    346"
      ]
     },
     "execution_count": 36,
     "metadata": {},
     "output_type": "execute_result"
    }
   ],
   "source": [
    "df_uni.sort_values('event', ascending=False).head(15)"
   ]
  },
  {
   "cell_type": "markdown",
   "metadata": {},
   "source": [
    "Явно, здесь не видно того, чтобы целостность данных нарушалась, к тому же, данные тоже не расходятся с предыдущими выводами."
   ]
  },
  {
   "cell_type": "markdown",
   "metadata": {},
   "source": [
    "#### advertisments and agencies\n",
    "\n",
    "Также еще не рассматривали рекламные агенства и объявления, в контексте их времени жизни.\n",
    "\n",
    "Поэтому попробуем посмотреть какие рекламные объявления и в какие дни проигрывались, от какого-либо рекламного агента."
   ]
  },
  {
   "cell_type": "markdown",
   "metadata": {},
   "source": [
    "Попробуем построить графики, начала и конца рк, возможно здесь появится ясность.\n",
    "\n",
    "Чтобы не рассматривать множество мелких групп рассмотрим клиентов без агенств и агенство 2, как имеющее наибольшее количество событий."
   ]
  },
  {
   "cell_type": "code",
   "execution_count": 37,
   "metadata": {},
   "outputs": [],
   "source": [
    "# построим графики по другим агенствам/клиентам\n",
    "df_no_agency = df[df.agency_union_id == 'no_agency'].groupby(['date','ad_id'], as_index=False).\\\n",
    "agg({'event' : 'count'})\n",
    "\n",
    "df_no_agency['date'] = pd.to_datetime(df_no_agency.date, format='%Y-%m-%d')\n",
    "\n",
    "df_no_agency.sort_values(by = 'date', ascending=True, inplace=True)"
   ]
  },
  {
   "cell_type": "code",
   "execution_count": 38,
   "metadata": {},
   "outputs": [
    {
     "data": {
      "text/plain": [
       "event    8.0\n",
       "Name: 0.97, dtype: float64"
      ]
     },
     "execution_count": 38,
     "metadata": {},
     "output_type": "execute_result"
    }
   ],
   "source": [
    "#### drop ad_id, that are less than n in total\n",
    "# use quantile maybe?\n",
    "df_no_agency.quantile(.97)"
   ]
  },
  {
   "cell_type": "code",
   "execution_count": 39,
   "metadata": {},
   "outputs": [],
   "source": [
    "df_no_agency = df_no_agency[df_no_agency.event > 50]"
   ]
  },
  {
   "cell_type": "code",
   "execution_count": 40,
   "metadata": {},
   "outputs": [
    {
     "data": {
      "text/plain": [
       "(27, 3)"
      ]
     },
     "execution_count": 40,
     "metadata": {},
     "output_type": "execute_result"
    }
   ],
   "source": [
    "df_no_agency.shape"
   ]
  },
  {
   "cell_type": "code",
   "execution_count": 41,
   "metadata": {},
   "outputs": [
    {
     "data": {
      "text/html": [
       "<div>\n",
       "<style scoped>\n",
       "    .dataframe tbody tr th:only-of-type {\n",
       "        vertical-align: middle;\n",
       "    }\n",
       "\n",
       "    .dataframe tbody tr th {\n",
       "        vertical-align: top;\n",
       "    }\n",
       "\n",
       "    .dataframe thead th {\n",
       "        text-align: right;\n",
       "    }\n",
       "</style>\n",
       "<table border=\"1\" class=\"dataframe\">\n",
       "  <thead>\n",
       "    <tr style=\"text-align: right;\">\n",
       "      <th></th>\n",
       "      <th>date</th>\n",
       "      <th>ad_id</th>\n",
       "      <th>event</th>\n",
       "    </tr>\n",
       "  </thead>\n",
       "  <tbody>\n",
       "    <tr>\n",
       "      <th>1435</th>\n",
       "      <td>2019-04-01</td>\n",
       "      <td>ad_7701</td>\n",
       "      <td>197</td>\n",
       "    </tr>\n",
       "    <tr>\n",
       "      <th>1403</th>\n",
       "      <td>2019-04-01</td>\n",
       "      <td>ad_5131</td>\n",
       "      <td>53</td>\n",
       "    </tr>\n",
       "    <tr>\n",
       "      <th>604</th>\n",
       "      <td>2019-04-01</td>\n",
       "      <td>ad_3024</td>\n",
       "      <td>53</td>\n",
       "    </tr>\n",
       "    <tr>\n",
       "      <th>2983</th>\n",
       "      <td>2019-04-02</td>\n",
       "      <td>ad_7701</td>\n",
       "      <td>114</td>\n",
       "    </tr>\n",
       "    <tr>\n",
       "      <th>2946</th>\n",
       "      <td>2019-04-02</td>\n",
       "      <td>ad_5132</td>\n",
       "      <td>52</td>\n",
       "    </tr>\n",
       "  </tbody>\n",
       "</table>\n",
       "</div>"
      ],
      "text/plain": [
       "           date    ad_id  event\n",
       "1435 2019-04-01  ad_7701    197\n",
       "1403 2019-04-01  ad_5131     53\n",
       "604  2019-04-01  ad_3024     53\n",
       "2983 2019-04-02  ad_7701    114\n",
       "2946 2019-04-02  ad_5132     52"
      ]
     },
     "execution_count": 41,
     "metadata": {},
     "output_type": "execute_result"
    }
   ],
   "source": [
    "df_no_agency.head()"
   ]
  },
  {
   "cell_type": "code",
   "execution_count": 42,
   "metadata": {},
   "outputs": [
    {
     "data": {
      "image/png": "[encoded data removed]",
      "text/plain": [
       "<Figure size 1296x648 with 1 Axes>"
      ]
     },
     "metadata": {},
     "output_type": "display_data"
    }
   ],
   "source": [
    "ax = sns.lineplot(x = 'date', y = 'event', hue = 'ad_id', data = df_no_agency)\n",
    "\n",
    "ax.legend(loc=2, prop={'size': 14})\n",
    "ax.set_title('Рекламные объявления no_agency')\n",
    "ax.set_xlabel('Дни')\n",
    "ax.set_ylabel('Количество действий с рекламными объявлениями')\n",
    "ax.xaxis.set_major_formatter(mdates.DateFormatter('%b %d'))\n",
    "\n",
    "ax.yaxis.set_major_formatter(yfmt)"
   ]
  },
  {
   "cell_type": "markdown",
   "metadata": {},
   "source": [
    "И аналогично для агенства 2."
   ]
  },
  {
   "cell_type": "code",
   "execution_count": 43,
   "metadata": {},
   "outputs": [],
   "source": [
    "df_agency_2 = df[df.agency_union_id == 'agency_2'].groupby(['date','ad_id'], as_index=False).\\\n",
    "agg({'event' : 'count'})\n",
    "\n",
    "df_agency_2['date'] = pd.to_datetime(df_agency_2.date, format='%Y-%m-%d')\n",
    "\n",
    "df_agency_2.sort_values(by = 'date', ascending=True, inplace=True)"
   ]
  },
  {
   "cell_type": "code",
   "execution_count": 44,
   "metadata": {},
   "outputs": [
    {
     "data": {
      "text/plain": [
       "event    145.2\n",
       "Name: 0.7, dtype: float64"
      ]
     },
     "execution_count": 44,
     "metadata": {},
     "output_type": "execute_result"
    }
   ],
   "source": [
    "df_agency_2.quantile(.70)"
   ]
  },
  {
   "cell_type": "code",
   "execution_count": 45,
   "metadata": {},
   "outputs": [],
   "source": [
    "#### drop ad_id, that are less than n in total\n",
    "# use quantile maybe?\n",
    "df_agency_2 = df_agency_2[df_agency_2.event > 150]"
   ]
  },
  {
   "cell_type": "code",
   "execution_count": 46,
   "metadata": {},
   "outputs": [
    {
     "data": {
      "text/html": [
       "<div>\n",
       "<style scoped>\n",
       "    .dataframe tbody tr th:only-of-type {\n",
       "        vertical-align: middle;\n",
       "    }\n",
       "\n",
       "    .dataframe tbody tr th {\n",
       "        vertical-align: top;\n",
       "    }\n",
       "\n",
       "    .dataframe thead th {\n",
       "        text-align: right;\n",
       "    }\n",
       "</style>\n",
       "<table border=\"1\" class=\"dataframe\">\n",
       "  <thead>\n",
       "    <tr style=\"text-align: right;\">\n",
       "      <th></th>\n",
       "      <th>date</th>\n",
       "      <th>ad_id</th>\n",
       "      <th>event</th>\n",
       "    </tr>\n",
       "  </thead>\n",
       "  <tbody>\n",
       "    <tr>\n",
       "      <th>40</th>\n",
       "      <td>2019-04-08</td>\n",
       "      <td>ad_49564</td>\n",
       "      <td>1438</td>\n",
       "    </tr>\n",
       "    <tr>\n",
       "      <th>37</th>\n",
       "      <td>2019-04-08</td>\n",
       "      <td>ad_47269</td>\n",
       "      <td>151</td>\n",
       "    </tr>\n",
       "    <tr>\n",
       "      <th>39</th>\n",
       "      <td>2019-04-08</td>\n",
       "      <td>ad_49560</td>\n",
       "      <td>2940</td>\n",
       "    </tr>\n",
       "    <tr>\n",
       "      <th>46</th>\n",
       "      <td>2019-04-09</td>\n",
       "      <td>ad_49560</td>\n",
       "      <td>1867</td>\n",
       "    </tr>\n",
       "    <tr>\n",
       "      <th>47</th>\n",
       "      <td>2019-04-09</td>\n",
       "      <td>ad_49564</td>\n",
       "      <td>1012</td>\n",
       "    </tr>\n",
       "  </tbody>\n",
       "</table>\n",
       "</div>"
      ],
      "text/plain": [
       "         date     ad_id  event\n",
       "40 2019-04-08  ad_49564   1438\n",
       "37 2019-04-08  ad_47269    151\n",
       "39 2019-04-08  ad_49560   2940\n",
       "46 2019-04-09  ad_49560   1867\n",
       "47 2019-04-09  ad_49564   1012"
      ]
     },
     "execution_count": 46,
     "metadata": {},
     "output_type": "execute_result"
    }
   ],
   "source": [
    "df_agency_2.head()"
   ]
  },
  {
   "cell_type": "code",
   "execution_count": 47,
   "metadata": {},
   "outputs": [
    {
     "data": {
      "image/png": "[encoded data removed]",
      "text/plain": [
       "<Figure size 1296x648 with 1 Axes>"
      ]
     },
     "metadata": {},
     "output_type": "display_data"
    }
   ],
   "source": [
    "ax = sns.lineplot(x = 'date', y = 'event', hue = 'ad_id', data = df_agency_2)\n",
    "\n",
    "ax.legend(loc=2, prop={'size': 14})\n",
    "ax.set_title('Рекламные объявления agency_2')\n",
    "ax.set_xlabel('Дни')\n",
    "ax.set_ylabel('Количество действий с рекламными объявлениями')\n",
    "ax.xaxis.set_major_formatter(mdates.DateFormatter('%b %d'))\n",
    "ax.yaxis.set_major_formatter(yfmt)"
   ]
  },
  {
   "cell_type": "markdown",
   "metadata": {},
   "source": [
    "Здесь можно сделать следующие выводы:\n",
    "- гипотеза о том, что началась рекламная компания, которую посмотрело аномально большое количество пользователей, подтверждается. При этом наибольший эффект дают два объявления, которые в сумме дают наибольший прирост за 11 апреля.\n",
    "\n",
    "- при этом, аномально мало кликов на объявления на этих двух объявлениях."
   ]
  },
  {
   "cell_type": "markdown",
   "metadata": {},
   "source": [
    "Дополнительно попробуем рассчитать параметр CTR для выбранных РК за весь период."
   ]
  },
  {
   "cell_type": "code",
   "execution_count": 48,
   "metadata": {},
   "outputs": [],
   "source": [
    "#### ПОСЧИТАТЬ CTR, возможно больше средств влили рекламу\n",
    "\n",
    "df_ctr = df[df.ad_cost_type == 'CPC'] #df[df.ad_id == 'ad_49554']\n",
    "\n",
    "df_ctr = df_ctr.groupby(['campaign_union_id','event'], as_index=False).\\\n",
    "agg({'time' : 'count'   \n",
    "    })\n",
    "\n",
    "df_ctr.sort_values(['campaign_union_id'], inplace=True)"
   ]
  },
  {
   "cell_type": "code",
   "execution_count": 49,
   "metadata": {},
   "outputs": [],
   "source": [
    "df_ctr = df_ctr.pivot_table(index='campaign_union_id',\n",
    "               columns='event',\n",
    "               #values='campaign_union_id',\n",
    "               aggfunc='sum').reset_index()"
   ]
  },
  {
   "cell_type": "code",
   "execution_count": 50,
   "metadata": {},
   "outputs": [],
   "source": [
    "df_ctr.columns = df_ctr.columns.droplevel()\n",
    "df_ctr.columns = ['campaign_union_id', 'click', 'report', 'view']"
   ]
  },
  {
   "cell_type": "code",
   "execution_count": 51,
   "metadata": {},
   "outputs": [],
   "source": [
    "#df_ctr[df_ctr.view > 1]"
   ]
  },
  {
   "cell_type": "code",
   "execution_count": 52,
   "metadata": {},
   "outputs": [],
   "source": [
    "df_ctr['ctr'] = df_ctr.click / df_ctr.view"
   ]
  },
  {
   "cell_type": "code",
   "execution_count": 53,
   "metadata": {},
   "outputs": [
    {
     "data": {
      "text/html": [
       "<div>\n",
       "<style scoped>\n",
       "    .dataframe tbody tr th:only-of-type {\n",
       "        vertical-align: middle;\n",
       "    }\n",
       "\n",
       "    .dataframe tbody tr th {\n",
       "        vertical-align: top;\n",
       "    }\n",
       "\n",
       "    .dataframe thead th {\n",
       "        text-align: right;\n",
       "    }\n",
       "</style>\n",
       "<table border=\"1\" class=\"dataframe\">\n",
       "  <thead>\n",
       "    <tr style=\"text-align: right;\">\n",
       "      <th></th>\n",
       "      <th>click</th>\n",
       "      <th>report</th>\n",
       "      <th>view</th>\n",
       "      <th>ctr</th>\n",
       "    </tr>\n",
       "  </thead>\n",
       "  <tbody>\n",
       "    <tr>\n",
       "      <th>count</th>\n",
       "      <td>918.000000</td>\n",
       "      <td>234.00000</td>\n",
       "      <td>1109.000000</td>\n",
       "      <td>52.000000</td>\n",
       "    </tr>\n",
       "    <tr>\n",
       "      <th>mean</th>\n",
       "      <td>1.821351</td>\n",
       "      <td>1.32906</td>\n",
       "      <td>65.120830</td>\n",
       "      <td>0.172237</td>\n",
       "    </tr>\n",
       "    <tr>\n",
       "      <th>std</th>\n",
       "      <td>3.876319</td>\n",
       "      <td>1.26298</td>\n",
       "      <td>1433.937362</td>\n",
       "      <td>0.321167</td>\n",
       "    </tr>\n",
       "    <tr>\n",
       "      <th>min</th>\n",
       "      <td>1.000000</td>\n",
       "      <td>1.00000</td>\n",
       "      <td>1.000000</td>\n",
       "      <td>0.000536</td>\n",
       "    </tr>\n",
       "    <tr>\n",
       "      <th>25%</th>\n",
       "      <td>1.000000</td>\n",
       "      <td>1.00000</td>\n",
       "      <td>2.000000</td>\n",
       "      <td>0.007288</td>\n",
       "    </tr>\n",
       "    <tr>\n",
       "      <th>50%</th>\n",
       "      <td>1.000000</td>\n",
       "      <td>1.00000</td>\n",
       "      <td>4.000000</td>\n",
       "      <td>0.020842</td>\n",
       "    </tr>\n",
       "    <tr>\n",
       "      <th>75%</th>\n",
       "      <td>1.000000</td>\n",
       "      <td>1.00000</td>\n",
       "      <td>14.000000</td>\n",
       "      <td>0.125000</td>\n",
       "    </tr>\n",
       "    <tr>\n",
       "      <th>max</th>\n",
       "      <td>63.000000</td>\n",
       "      <td>11.00000</td>\n",
       "      <td>47688.000000</td>\n",
       "      <td>1.000000</td>\n",
       "    </tr>\n",
       "  </tbody>\n",
       "</table>\n",
       "</div>"
      ],
      "text/plain": [
       "            click     report          view        ctr\n",
       "count  918.000000  234.00000   1109.000000  52.000000\n",
       "mean     1.821351    1.32906     65.120830   0.172237\n",
       "std      3.876319    1.26298   1433.937362   0.321167\n",
       "min      1.000000    1.00000      1.000000   0.000536\n",
       "25%      1.000000    1.00000      2.000000   0.007288\n",
       "50%      1.000000    1.00000      4.000000   0.020842\n",
       "75%      1.000000    1.00000     14.000000   0.125000\n",
       "max     63.000000   11.00000  47688.000000   1.000000"
      ]
     },
     "execution_count": 53,
     "metadata": {},
     "output_type": "execute_result"
    }
   ],
   "source": [
    "df_ctr.describe()"
   ]
  },
  {
   "cell_type": "code",
   "execution_count": 54,
   "metadata": {},
   "outputs": [
    {
     "data": {
      "text/html": [
       "<div>\n",
       "<style scoped>\n",
       "    .dataframe tbody tr th:only-of-type {\n",
       "        vertical-align: middle;\n",
       "    }\n",
       "\n",
       "    .dataframe tbody tr th {\n",
       "        vertical-align: top;\n",
       "    }\n",
       "\n",
       "    .dataframe thead th {\n",
       "        text-align: right;\n",
       "    }\n",
       "</style>\n",
       "<table border=\"1\" class=\"dataframe\">\n",
       "  <thead>\n",
       "    <tr style=\"text-align: right;\">\n",
       "      <th></th>\n",
       "      <th>campaign_union_id</th>\n",
       "      <th>click</th>\n",
       "      <th>report</th>\n",
       "      <th>view</th>\n",
       "      <th>ctr</th>\n",
       "    </tr>\n",
       "  </thead>\n",
       "  <tbody>\n",
       "    <tr>\n",
       "      <th>1045</th>\n",
       "      <td>campaign_1889</td>\n",
       "      <td>2.0</td>\n",
       "      <td>1.0</td>\n",
       "      <td>19.0</td>\n",
       "      <td>0.105263</td>\n",
       "    </tr>\n",
       "    <tr>\n",
       "      <th>1960</th>\n",
       "      <td>campaign_7314</td>\n",
       "      <td>2.0</td>\n",
       "      <td>1.0</td>\n",
       "      <td>26.0</td>\n",
       "      <td>0.076923</td>\n",
       "    </tr>\n",
       "    <tr>\n",
       "      <th>2044</th>\n",
       "      <td>campaign_99142</td>\n",
       "      <td>3.0</td>\n",
       "      <td>NaN</td>\n",
       "      <td>59.0</td>\n",
       "      <td>0.050847</td>\n",
       "    </tr>\n",
       "    <tr>\n",
       "      <th>1959</th>\n",
       "      <td>campaign_5822</td>\n",
       "      <td>6.0</td>\n",
       "      <td>NaN</td>\n",
       "      <td>1006.0</td>\n",
       "      <td>0.005964</td>\n",
       "    </tr>\n",
       "    <tr>\n",
       "      <th>1963</th>\n",
       "      <td>campaign_7701</td>\n",
       "      <td>2.0</td>\n",
       "      <td>NaN</td>\n",
       "      <td>566.0</td>\n",
       "      <td>0.003534</td>\n",
       "    </tr>\n",
       "    <tr>\n",
       "      <th>1957</th>\n",
       "      <td>campaign_49554</td>\n",
       "      <td>45.0</td>\n",
       "      <td>6.0</td>\n",
       "      <td>47688.0</td>\n",
       "      <td>0.000944</td>\n",
       "    </tr>\n",
       "  </tbody>\n",
       "</table>\n",
       "</div>"
      ],
      "text/plain": [
       "     campaign_union_id  click  report     view       ctr\n",
       "1045     campaign_1889    2.0     1.0     19.0  0.105263\n",
       "1960     campaign_7314    2.0     1.0     26.0  0.076923\n",
       "2044    campaign_99142    3.0     NaN     59.0  0.050847\n",
       "1959     campaign_5822    6.0     NaN   1006.0  0.005964\n",
       "1963     campaign_7701    2.0     NaN    566.0  0.003534\n",
       "1957    campaign_49554   45.0     6.0  47688.0  0.000944"
      ]
     },
     "execution_count": 54,
     "metadata": {},
     "output_type": "execute_result"
    }
   ],
   "source": [
    "df_ctr[(df_ctr.click > 1) & (df_ctr.view > 0)].sort_values('ctr', ascending=False)"
   ]
  },
  {
   "cell_type": "markdown",
   "metadata": {},
   "source": [
    "Похоже, рекламных кампаний (по тратам CPC), которые имели бы и просмотры и клики не так уж и много + campaign_49554 имеет очень низки CTR, что означает либо её низкую эффективность, или малую цену за клик (либо и то и другое сразу)."
   ]
  },
  {
   "cell_type": "markdown",
   "metadata": {},
   "source": [
    "#### 11 апреля.\n",
    "\n",
    "Отдельно также рассмотрим день с пиковым количеством событий, а также попробуем понять, как можно детектировать такие аномальные всплески. "
   ]
  },
  {
   "cell_type": "code",
   "execution_count": 55,
   "metadata": {},
   "outputs": [
    {
     "name": "stdout",
     "output_type": "stream",
     "text": [
      "(18259, 11)\n"
     ]
    }
   ],
   "source": [
    "df_splash_day = df[df.date == '2019-04-11']\n",
    "print (df_splash_day.shape)"
   ]
  },
  {
   "cell_type": "code",
   "execution_count": 56,
   "metadata": {},
   "outputs": [],
   "source": [
    "df_splash_day = df_splash_day.sort_values(by = 'time_from_timestamp')\n",
    "\n",
    "# дропнем признаки наличие видео и дату как ненужные, видео т.к. оно редко встречается\n",
    "df_splash_day.drop(['has_video','date'], axis = 1, inplace = True)\n",
    "df_splash_day.reset_index(inplace=True,drop=True)"
   ]
  },
  {
   "cell_type": "code",
   "execution_count": 57,
   "metadata": {},
   "outputs": [
    {
     "data": {
      "text/html": [
       "<div>\n",
       "<style scoped>\n",
       "    .dataframe tbody tr th:only-of-type {\n",
       "        vertical-align: middle;\n",
       "    }\n",
       "\n",
       "    .dataframe tbody tr th {\n",
       "        vertical-align: top;\n",
       "    }\n",
       "\n",
       "    .dataframe thead th {\n",
       "        text-align: right;\n",
       "    }\n",
       "</style>\n",
       "<table border=\"1\" class=\"dataframe\">\n",
       "  <thead>\n",
       "    <tr style=\"text-align: right;\">\n",
       "      <th></th>\n",
       "      <th>time</th>\n",
       "      <th>event</th>\n",
       "      <th>ad_cost_type</th>\n",
       "      <th>agency_union_id</th>\n",
       "      <th>client_union_id</th>\n",
       "      <th>campaign_union_id</th>\n",
       "      <th>ad_id</th>\n",
       "      <th>platform</th>\n",
       "      <th>time_from_timestamp</th>\n",
       "    </tr>\n",
       "  </thead>\n",
       "  <tbody>\n",
       "    <tr>\n",
       "      <th>0</th>\n",
       "      <td>1554940810</td>\n",
       "      <td>view</td>\n",
       "      <td>CPC</td>\n",
       "      <td>agency_33</td>\n",
       "      <td>client_99583</td>\n",
       "      <td>campaign_99643</td>\n",
       "      <td>ad_99643</td>\n",
       "      <td>web</td>\n",
       "      <td>2019-04-11 00:00:10</td>\n",
       "    </tr>\n",
       "    <tr>\n",
       "      <th>1</th>\n",
       "      <td>1554940815</td>\n",
       "      <td>view</td>\n",
       "      <td>CPM</td>\n",
       "      <td>agency_158</td>\n",
       "      <td>client_106198</td>\n",
       "      <td>campaign_106664</td>\n",
       "      <td>ad_106668</td>\n",
       "      <td>android</td>\n",
       "      <td>2019-04-11 00:00:15</td>\n",
       "    </tr>\n",
       "    <tr>\n",
       "      <th>2</th>\n",
       "      <td>1554940818</td>\n",
       "      <td>click</td>\n",
       "      <td>CPC</td>\n",
       "      <td>agency_54647</td>\n",
       "      <td>client_120417</td>\n",
       "      <td>campaign_120517</td>\n",
       "      <td>ad_120534</td>\n",
       "      <td>android</td>\n",
       "      <td>2019-04-11 00:00:18</td>\n",
       "    </tr>\n",
       "    <tr>\n",
       "      <th>3</th>\n",
       "      <td>1554940840</td>\n",
       "      <td>view</td>\n",
       "      <td>CPC</td>\n",
       "      <td>no_agency</td>\n",
       "      <td>client_26</td>\n",
       "      <td>campaign_4096</td>\n",
       "      <td>ad_4096</td>\n",
       "      <td>android</td>\n",
       "      <td>2019-04-11 00:00:40</td>\n",
       "    </tr>\n",
       "    <tr>\n",
       "      <th>4</th>\n",
       "      <td>1554940847</td>\n",
       "      <td>view</td>\n",
       "      <td>CPC</td>\n",
       "      <td>no_agency</td>\n",
       "      <td>client_2328</td>\n",
       "      <td>campaign_20614</td>\n",
       "      <td>ad_20615</td>\n",
       "      <td>android</td>\n",
       "      <td>2019-04-11 00:00:47</td>\n",
       "    </tr>\n",
       "  </tbody>\n",
       "</table>\n",
       "</div>"
      ],
      "text/plain": [
       "         time  event ad_cost_type agency_union_id client_union_id  \\\n",
       "0  1554940810   view          CPC       agency_33    client_99583   \n",
       "1  1554940815   view          CPM      agency_158   client_106198   \n",
       "2  1554940818  click          CPC    agency_54647   client_120417   \n",
       "3  1554940840   view          CPC       no_agency       client_26   \n",
       "4  1554940847   view          CPC       no_agency     client_2328   \n",
       "\n",
       "  campaign_union_id      ad_id platform time_from_timestamp  \n",
       "0    campaign_99643   ad_99643      web 2019-04-11 00:00:10  \n",
       "1   campaign_106664  ad_106668  android 2019-04-11 00:00:15  \n",
       "2   campaign_120517  ad_120534  android 2019-04-11 00:00:18  \n",
       "3     campaign_4096    ad_4096  android 2019-04-11 00:00:40  \n",
       "4    campaign_20614   ad_20615  android 2019-04-11 00:00:47  "
      ]
     },
     "execution_count": 57,
     "metadata": {},
     "output_type": "execute_result"
    }
   ],
   "source": [
    "df_splash_day.head()"
   ]
  },
  {
   "cell_type": "code",
   "execution_count": 58,
   "metadata": {
    "scrolled": false
   },
   "outputs": [
    {
     "name": "stdout",
     "output_type": "stream",
     "text": [
      "view      16097\n",
      "click      1811\n",
      "report      351\n",
      "Name: event, dtype: int64\n",
      "CPC    15383\n",
      "CPM     2876\n",
      "Name: ad_cost_type, dtype: int64\n",
      "agency_2      14035\n",
      "no_agency      2691\n",
      "agency_158      105\n",
      "agency_29        90\n",
      "agency_33        81\n",
      "Name: agency_union_id, dtype: int64\n",
      "client_47270    13941\n",
      "client_6          143\n",
      "client_47269       92\n",
      "client_99239       85\n",
      "client_42          77\n",
      "Name: client_union_id, dtype: int64\n",
      "campaign_49554    13941\n",
      "campaign_387        143\n",
      "campaign_47269       79\n",
      "campaign_99242       73\n",
      "campaign_5822        62\n",
      "Name: campaign_union_id, dtype: int64\n",
      "ad_49554    9640\n",
      "ad_49556    3455\n",
      "ad_49560     512\n",
      "ad_49564     334\n",
      "ad_388       101\n",
      "Name: ad_id, dtype: int64\n",
      "android    12945\n",
      "iphone      2141\n",
      "web         1885\n",
      "mvk         1271\n",
      "wphone        17\n",
      "Name: platform, dtype: int64\n"
     ]
    }
   ],
   "source": [
    "for column in df_splash_day.drop(['time', 'time_from_timestamp'], axis = 1): \n",
    "    print(df_splash_day[column].value_counts()[:5])"
   ]
  },
  {
   "cell_type": "code",
   "execution_count": 59,
   "metadata": {},
   "outputs": [
    {
     "data": {
      "text/html": [
       "<div>\n",
       "<style scoped>\n",
       "    .dataframe tbody tr th:only-of-type {\n",
       "        vertical-align: middle;\n",
       "    }\n",
       "\n",
       "    .dataframe tbody tr th {\n",
       "        vertical-align: top;\n",
       "    }\n",
       "\n",
       "    .dataframe thead th {\n",
       "        text-align: right;\n",
       "    }\n",
       "</style>\n",
       "<table border=\"1\" class=\"dataframe\">\n",
       "  <thead>\n",
       "    <tr style=\"text-align: right;\">\n",
       "      <th></th>\n",
       "      <th>ad_cost_type</th>\n",
       "      <th>platform</th>\n",
       "      <th>event</th>\n",
       "    </tr>\n",
       "  </thead>\n",
       "  <tbody>\n",
       "    <tr>\n",
       "      <th>0</th>\n",
       "      <td>CPC</td>\n",
       "      <td>android</td>\n",
       "      <td>10160</td>\n",
       "    </tr>\n",
       "    <tr>\n",
       "      <th>1</th>\n",
       "      <td>CPC</td>\n",
       "      <td>iphone</td>\n",
       "      <td>1501</td>\n",
       "    </tr>\n",
       "    <tr>\n",
       "      <th>2</th>\n",
       "      <td>CPC</td>\n",
       "      <td>mvk</td>\n",
       "      <td>1064</td>\n",
       "    </tr>\n",
       "    <tr>\n",
       "      <th>3</th>\n",
       "      <td>CPC</td>\n",
       "      <td>web</td>\n",
       "      <td>1308</td>\n",
       "    </tr>\n",
       "    <tr>\n",
       "      <th>4</th>\n",
       "      <td>CPM</td>\n",
       "      <td>android</td>\n",
       "      <td>2</td>\n",
       "    </tr>\n",
       "  </tbody>\n",
       "</table>\n",
       "</div>"
      ],
      "text/plain": [
       "  ad_cost_type platform  event\n",
       "0          CPC  android  10160\n",
       "1          CPC   iphone   1501\n",
       "2          CPC      mvk   1064\n",
       "3          CPC      web   1308\n",
       "4          CPM  android      2"
      ]
     },
     "execution_count": 59,
     "metadata": {},
     "output_type": "execute_result"
    }
   ],
   "source": [
    "df_splash_day[df_splash_day.agency_union_id == 'agency_2'].groupby(['ad_cost_type','platform'], as_index=False).\\\n",
    "agg({'event' : 'count'})"
   ]
  },
  {
   "cell_type": "markdown",
   "metadata": {},
   "source": [
    "Наибольшее количество событий за этот день составляют вида CPC- view, с agency_2, client_47270, campaign_49554, ad_49554 и ad_49556."
   ]
  },
  {
   "cell_type": "markdown",
   "metadata": {},
   "source": [
    "Построим таймлайн с распределением событий в течение дня."
   ]
  },
  {
   "cell_type": "code",
   "execution_count": 60,
   "metadata": {},
   "outputs": [
    {
     "data": {
      "text/html": [
       "<div>\n",
       "<style scoped>\n",
       "    .dataframe tbody tr th:only-of-type {\n",
       "        vertical-align: middle;\n",
       "    }\n",
       "\n",
       "    .dataframe tbody tr th {\n",
       "        vertical-align: top;\n",
       "    }\n",
       "\n",
       "    .dataframe thead th {\n",
       "        text-align: right;\n",
       "    }\n",
       "</style>\n",
       "<table border=\"1\" class=\"dataframe\">\n",
       "  <thead>\n",
       "    <tr style=\"text-align: right;\">\n",
       "      <th></th>\n",
       "      <th>time</th>\n",
       "      <th>event</th>\n",
       "      <th>ad_cost_type</th>\n",
       "      <th>agency_union_id</th>\n",
       "      <th>client_union_id</th>\n",
       "      <th>campaign_union_id</th>\n",
       "      <th>ad_id</th>\n",
       "      <th>platform</th>\n",
       "      <th>time_from_timestamp</th>\n",
       "    </tr>\n",
       "    <tr>\n",
       "      <th>time_from_timestamp</th>\n",
       "      <th></th>\n",
       "      <th></th>\n",
       "      <th></th>\n",
       "      <th></th>\n",
       "      <th></th>\n",
       "      <th></th>\n",
       "      <th></th>\n",
       "      <th></th>\n",
       "      <th></th>\n",
       "    </tr>\n",
       "  </thead>\n",
       "  <tbody>\n",
       "    <tr>\n",
       "      <th>0</th>\n",
       "      <td>1554940810</td>\n",
       "      <td>view</td>\n",
       "      <td>CPC</td>\n",
       "      <td>agency_33</td>\n",
       "      <td>client_99583</td>\n",
       "      <td>campaign_99643</td>\n",
       "      <td>ad_99643</td>\n",
       "      <td>web</td>\n",
       "      <td>2019-04-11 00:00:10</td>\n",
       "    </tr>\n",
       "    <tr>\n",
       "      <th>0</th>\n",
       "      <td>1554940815</td>\n",
       "      <td>view</td>\n",
       "      <td>CPM</td>\n",
       "      <td>agency_158</td>\n",
       "      <td>client_106198</td>\n",
       "      <td>campaign_106664</td>\n",
       "      <td>ad_106668</td>\n",
       "      <td>android</td>\n",
       "      <td>2019-04-11 00:00:15</td>\n",
       "    </tr>\n",
       "    <tr>\n",
       "      <th>0</th>\n",
       "      <td>1554940818</td>\n",
       "      <td>click</td>\n",
       "      <td>CPC</td>\n",
       "      <td>agency_54647</td>\n",
       "      <td>client_120417</td>\n",
       "      <td>campaign_120517</td>\n",
       "      <td>ad_120534</td>\n",
       "      <td>android</td>\n",
       "      <td>2019-04-11 00:00:18</td>\n",
       "    </tr>\n",
       "    <tr>\n",
       "      <th>0</th>\n",
       "      <td>1554940840</td>\n",
       "      <td>view</td>\n",
       "      <td>CPC</td>\n",
       "      <td>no_agency</td>\n",
       "      <td>client_26</td>\n",
       "      <td>campaign_4096</td>\n",
       "      <td>ad_4096</td>\n",
       "      <td>android</td>\n",
       "      <td>2019-04-11 00:00:40</td>\n",
       "    </tr>\n",
       "    <tr>\n",
       "      <th>0</th>\n",
       "      <td>1554940847</td>\n",
       "      <td>view</td>\n",
       "      <td>CPC</td>\n",
       "      <td>no_agency</td>\n",
       "      <td>client_2328</td>\n",
       "      <td>campaign_20614</td>\n",
       "      <td>ad_20615</td>\n",
       "      <td>android</td>\n",
       "      <td>2019-04-11 00:00:47</td>\n",
       "    </tr>\n",
       "  </tbody>\n",
       "</table>\n",
       "</div>"
      ],
      "text/plain": [
       "                           time  event ad_cost_type agency_union_id  \\\n",
       "time_from_timestamp                                                   \n",
       "0                    1554940810   view          CPC       agency_33   \n",
       "0                    1554940815   view          CPM      agency_158   \n",
       "0                    1554940818  click          CPC    agency_54647   \n",
       "0                    1554940840   view          CPC       no_agency   \n",
       "0                    1554940847   view          CPC       no_agency   \n",
       "\n",
       "                    client_union_id campaign_union_id      ad_id platform  \\\n",
       "time_from_timestamp                                                         \n",
       "0                      client_99583    campaign_99643   ad_99643      web   \n",
       "0                     client_106198   campaign_106664  ad_106668  android   \n",
       "0                     client_120417   campaign_120517  ad_120534  android   \n",
       "0                         client_26     campaign_4096    ad_4096  android   \n",
       "0                       client_2328    campaign_20614   ad_20615  android   \n",
       "\n",
       "                    time_from_timestamp  \n",
       "time_from_timestamp                      \n",
       "0                   2019-04-11 00:00:10  \n",
       "0                   2019-04-11 00:00:15  \n",
       "0                   2019-04-11 00:00:18  \n",
       "0                   2019-04-11 00:00:40  \n",
       "0                   2019-04-11 00:00:47  "
      ]
     },
     "execution_count": 60,
     "metadata": {},
     "output_type": "execute_result"
    }
   ],
   "source": [
    "df_splash_hour_index = df_splash_day.set_index(df_splash_day.time_from_timestamp.dt.hour)\n",
    "df_splash_hour_index.head()"
   ]
  },
  {
   "cell_type": "markdown",
   "metadata": {},
   "source": [
    "Сгруппируем и посмотрим в виде таймлайна на события."
   ]
  },
  {
   "cell_type": "code",
   "execution_count": 61,
   "metadata": {},
   "outputs": [
    {
     "data": {
      "text/plain": [
       "Text(0, 0.5, 'Count')"
      ]
     },
     "execution_count": 61,
     "metadata": {},
     "output_type": "execute_result"
    },
    {
     "data": {
      "image/png": "[encoded data removed]",
      "text/plain": [
       "<Figure size 1296x648 with 1 Axes>"
      ]
     },
     "metadata": {},
     "output_type": "display_data"
    }
   ],
   "source": [
    "ax = df_splash_hour_index.groupby(df_splash_hour_index.index, as_index=False)\\\n",
    ".agg({'event' : 'count'}).plot(kind = 'bar')\n",
    "\n",
    "ax.legend(loc=2, prop={'size': 14})\n",
    "ax.set_title('11 april events distribution')\n",
    "ax.set_xlabel('Hour')\n",
    "ax.set_ylabel('Count')"
   ]
  },
  {
   "cell_type": "markdown",
   "metadata": {},
   "source": [
    "Самыми активными были часы 10:15.\n",
    "\n",
    "Попробуем выделить паттерны/дубликаты."
   ]
  },
  {
   "cell_type": "markdown",
   "metadata": {},
   "source": [
    "Для того, чтобы лучше понять скорость роста, расчитаем разницу между событиями и посчитаем среднее между несколькими событиями используя скользящее окно."
   ]
  },
  {
   "cell_type": "code",
   "execution_count": 62,
   "metadata": {},
   "outputs": [
    {
     "data": {
      "text/plain": [
       "Text(0, 0.5, 'Count')"
      ]
     },
     "execution_count": 62,
     "metadata": {},
     "output_type": "execute_result"
    },
    {
     "data": {
      "image/png": "[encoded data removed]",
      "text/plain": [
       "<Figure size 1296x648 with 1 Axes>"
      ]
     },
     "metadata": {},
     "output_type": "display_data"
    }
   ],
   "source": [
    "# rolling in pandas?\n",
    "df_splash_hour_index['diff'] = df_splash_hour_index.time_from_timestamp.diff(periods = 1)\n",
    "df_splash_hour_index['diff'] = df_splash_hour_index['diff'].astype('timedelta64[s]')\n",
    "\n",
    "ax = df_splash_hour_index['diff'].rolling(3, min_periods = 1).median().plot(kind = 'line')\n",
    "\n",
    "ax.legend(loc=2, prop={'size': 14})\n",
    "ax.set_title('Rolling with median')\n",
    "ax.set_xlabel('Hour')\n",
    "ax.set_ylabel('Count')\n",
    "\n",
    "# try to use \n",
    "# df.ewm(alpha=.7).mean().head()\n",
    "# or\n",
    "# df.expanding(3).mean().head()"
   ]
  },
  {
   "cell_type": "code",
   "execution_count": 63,
   "metadata": {},
   "outputs": [
    {
     "data": {
      "text/html": [
       "<div>\n",
       "<style scoped>\n",
       "    .dataframe tbody tr th:only-of-type {\n",
       "        vertical-align: middle;\n",
       "    }\n",
       "\n",
       "    .dataframe tbody tr th {\n",
       "        vertical-align: top;\n",
       "    }\n",
       "\n",
       "    .dataframe thead th {\n",
       "        text-align: right;\n",
       "    }\n",
       "</style>\n",
       "<table border=\"1\" class=\"dataframe\">\n",
       "  <thead>\n",
       "    <tr style=\"text-align: right;\">\n",
       "      <th></th>\n",
       "      <th>time</th>\n",
       "      <th>event</th>\n",
       "      <th>ad_cost_type</th>\n",
       "      <th>agency_union_id</th>\n",
       "      <th>client_union_id</th>\n",
       "      <th>campaign_union_id</th>\n",
       "      <th>ad_id</th>\n",
       "      <th>platform</th>\n",
       "      <th>time_from_timestamp</th>\n",
       "      <th>diff</th>\n",
       "      <th>median</th>\n",
       "      <th>std</th>\n",
       "    </tr>\n",
       "    <tr>\n",
       "      <th>time_from_timestamp</th>\n",
       "      <th></th>\n",
       "      <th></th>\n",
       "      <th></th>\n",
       "      <th></th>\n",
       "      <th></th>\n",
       "      <th></th>\n",
       "      <th></th>\n",
       "      <th></th>\n",
       "      <th></th>\n",
       "      <th></th>\n",
       "      <th></th>\n",
       "      <th></th>\n",
       "    </tr>\n",
       "  </thead>\n",
       "  <tbody>\n",
       "    <tr>\n",
       "      <th>0</th>\n",
       "      <td>1554940818</td>\n",
       "      <td>click</td>\n",
       "      <td>CPC</td>\n",
       "      <td>agency_54647</td>\n",
       "      <td>client_120417</td>\n",
       "      <td>campaign_120517</td>\n",
       "      <td>ad_120534</td>\n",
       "      <td>android</td>\n",
       "      <td>2019-04-11 00:00:18</td>\n",
       "      <td>3.0</td>\n",
       "      <td>4.000000</td>\n",
       "      <td>1.414214</td>\n",
       "    </tr>\n",
       "    <tr>\n",
       "      <th>0</th>\n",
       "      <td>1554940840</td>\n",
       "      <td>view</td>\n",
       "      <td>CPC</td>\n",
       "      <td>no_agency</td>\n",
       "      <td>client_26</td>\n",
       "      <td>campaign_4096</td>\n",
       "      <td>ad_4096</td>\n",
       "      <td>android</td>\n",
       "      <td>2019-04-11 00:00:40</td>\n",
       "      <td>22.0</td>\n",
       "      <td>10.000000</td>\n",
       "      <td>10.440307</td>\n",
       "    </tr>\n",
       "    <tr>\n",
       "      <th>0</th>\n",
       "      <td>1554940847</td>\n",
       "      <td>view</td>\n",
       "      <td>CPC</td>\n",
       "      <td>no_agency</td>\n",
       "      <td>client_2328</td>\n",
       "      <td>campaign_20614</td>\n",
       "      <td>ad_20615</td>\n",
       "      <td>android</td>\n",
       "      <td>2019-04-11 00:00:47</td>\n",
       "      <td>7.0</td>\n",
       "      <td>9.250000</td>\n",
       "      <td>8.655441</td>\n",
       "    </tr>\n",
       "    <tr>\n",
       "      <th>0</th>\n",
       "      <td>1554940853</td>\n",
       "      <td>view</td>\n",
       "      <td>CPC</td>\n",
       "      <td>agency_2</td>\n",
       "      <td>client_47269</td>\n",
       "      <td>campaign_47269</td>\n",
       "      <td>ad_47269</td>\n",
       "      <td>iphone</td>\n",
       "      <td>2019-04-11 00:00:53</td>\n",
       "      <td>6.0</td>\n",
       "      <td>8.600000</td>\n",
       "      <td>7.635444</td>\n",
       "    </tr>\n",
       "    <tr>\n",
       "      <th>0</th>\n",
       "      <td>1554940856</td>\n",
       "      <td>click</td>\n",
       "      <td>CPM</td>\n",
       "      <td>agency_158</td>\n",
       "      <td>client_106937</td>\n",
       "      <td>campaign_107611</td>\n",
       "      <td>ad_107611</td>\n",
       "      <td>android</td>\n",
       "      <td>2019-04-11 00:00:56</td>\n",
       "      <td>3.0</td>\n",
       "      <td>7.666667</td>\n",
       "      <td>7.201852</td>\n",
       "    </tr>\n",
       "  </tbody>\n",
       "</table>\n",
       "</div>"
      ],
      "text/plain": [
       "                           time  event ad_cost_type agency_union_id  \\\n",
       "time_from_timestamp                                                   \n",
       "0                    1554940818  click          CPC    agency_54647   \n",
       "0                    1554940840   view          CPC       no_agency   \n",
       "0                    1554940847   view          CPC       no_agency   \n",
       "0                    1554940853   view          CPC        agency_2   \n",
       "0                    1554940856  click          CPM      agency_158   \n",
       "\n",
       "                    client_union_id campaign_union_id      ad_id platform  \\\n",
       "time_from_timestamp                                                         \n",
       "0                     client_120417   campaign_120517  ad_120534  android   \n",
       "0                         client_26     campaign_4096    ad_4096  android   \n",
       "0                       client_2328    campaign_20614   ad_20615  android   \n",
       "0                      client_47269    campaign_47269   ad_47269   iphone   \n",
       "0                     client_106937   campaign_107611  ad_107611  android   \n",
       "\n",
       "                    time_from_timestamp  diff     median        std  \n",
       "time_from_timestamp                                                  \n",
       "0                   2019-04-11 00:00:18   3.0   4.000000   1.414214  \n",
       "0                   2019-04-11 00:00:40  22.0  10.000000  10.440307  \n",
       "0                   2019-04-11 00:00:47   7.0   9.250000   8.655441  \n",
       "0                   2019-04-11 00:00:53   6.0   8.600000   7.635444  \n",
       "0                   2019-04-11 00:00:56   3.0   7.666667   7.201852  "
      ]
     },
     "execution_count": 63,
     "metadata": {},
     "output_type": "execute_result"
    }
   ],
   "source": [
    "# возможно получится хорошо находить всплески по интервалу в 3 страндартных отклонений\n",
    "# не помогло, т.к. разброс идет большой\n",
    "window = 50\n",
    "df_splash_hour_index['median']= df_splash_hour_index['diff'].rolling(window, 1).mean()\n",
    "df_splash_hour_index['std'] = df_splash_hour_index['diff'].rolling(window, 1).std()\n",
    "\n",
    "#filter setup\n",
    "df_splash_hour_index[(df_splash_hour_index['diff'] <= df_splash_hour_index['median']+3*df_splash_hour_index['std'])\\\n",
    "                     & (df_splash_hour_index['diff'] >= df_splash_hour_index['median']-3*df_splash_hour_index['std'])].head()"
   ]
  },
  {
   "cell_type": "code",
   "execution_count": 64,
   "metadata": {},
   "outputs": [
    {
     "data": {
      "text/plain": [
       "Text(0, 0.5, 'Count')"
      ]
     },
     "execution_count": 64,
     "metadata": {},
     "output_type": "execute_result"
    },
    {
     "data": {
      "image/png": "[encoded data removed]",
      "text/plain": [
       "<Figure size 1296x648 with 1 Axes>"
      ]
     },
     "metadata": {},
     "output_type": "display_data"
    }
   ],
   "source": [
    "ax = df_splash_hour_index['diff'].ewm(alpha=.7, min_periods = 1).mean().plot(kind = 'line')\n",
    "\n",
    "ax.legend(loc=2, prop={'size': 14})\n",
    "ax.set_title('Rolling with ewm, alpha 0.7')\n",
    "ax.set_xlabel('Hour')\n",
    "ax.set_ylabel('Count')"
   ]
  },
  {
   "cell_type": "markdown",
   "metadata": {},
   "source": [
    "Из графиков видно, что наблюдается явный перерыв между часами, что может послужить сигналом к тому, что объявление искусственно прокручивается.\n",
    "\n",
    "В целом каких-либо новых данных не появилось."
   ]
  },
  {
   "cell_type": "markdown",
   "metadata": {},
   "source": [
    "#### Выводы.\n",
    "\n",
    "После проведенного обзорного исследования данных на предмет причин такого всплеска можно сказать, что такой всплеск количества событий за 11 апреля, в основном, обусловлен двумя рекламными объявлениями проходящим в рамках одной рекламной кампании. Из особенностей следует отметить, что одно из объявлений стартовало на день раньше и \"вышло на пик\" 11 апреля, в момент старта второго объявления.\n",
    "\n",
    "Также следует упомянуть, что эти объявления характеризуются очень маленьким количеством кликов при типе трат - CPC.\n",
    "Возможно, так произошло, потому, что алгоритмы хорошо проранжировали эти объявления, но сами объявления оказались слабоэффективными в рамках неизвестных причин (возможно плохо составлены объявления, некорректая ЦА, и др.).\n",
    "\n",
    "\n",
    "Альтернативными гипотезами, которые принять не получилось, стали:\n",
    "\n",
    "- наличие определенного количества дубликатов, которые бы искажали сильно график количества показов объявлений. Проверить это корректно не получилось, т.к. из данных нет возможности получить доказательства уникальности каждого события.\n",
    "- возможно перепутаны типы трат CPC/CPM и view-click, т.к. в случае такой ошибки графики распределения типов событий от типов трат выглядели бы достаточно правдоподобно."
   ]
  },
  {
   "cell_type": "markdown",
   "metadata": {},
   "source": [
    "#### splash detection.\n",
    "\n",
    "Для того, чтобы предсказывать сплеши можно попробовать использовать:\n",
    "- скользящее окно и усреднять полученные данные, но такой способ будет слабоэффективен, т.к. по факту мы получим метрику того, что событий происходят с малым интервалом -> большой частотой.\n",
    "\n",
    "- arima/linear regression. авторегрессия все же выглядит более перспективно, чем модели обычные регрессионные модели, т.к. предполагают лучшую работу с временными последовательностями.\n",
    "\n",
    "- рекуррентая нейросеть, как вариант LSTM, которая достаточно неплохо зарекомендовала себя для работы с последовательностями.\n",
    "\n",
    "- основная гипотеза состоит в том, что если значения количества событий отличается от предсказанного моделью (по метрике), то скорее всего стоит обратить внимание на данные.\n",
    "\n",
    "- также, оптимально добавить еще классификатор, для оценки получения определенного типа события (view, report, click)."
   ]
  },
  {
   "cell_type": "markdown",
   "metadata": {},
   "source": [
    "По итогу, первым вариантом будет модель arima, в базовом варианте алгоритм работает следующим образом:\n",
    "- создаем трейн/тест датасеты, которые группируют данные по нужному интервалу времени, доводят датафреймы до требуемой длины\n",
    "\n",
    "- подготавливаем данные, для использования в arima\n",
    "\n",
    "- делаем прогноз, далее сравниваем предсказанные значения количества событий с тестовым и считаем метрику rmse\n",
    "\n",
    "- если метрика превышает выбранный порог, то возвращаем интервалы, где разница между предсказанным и тестовыми значениями больше одного стандартного отклонения.(как вариант использовать среднее + станд. отклонения, если данные буду сильно разниться).\n"
   ]
  },
  {
   "cell_type": "code",
   "execution_count": 65,
   "metadata": {},
   "outputs": [],
   "source": [
    "# in current implementation, only 5 min intervals allowed\n",
    "def create_df(dataset, date, **kwargs):\n",
    "    groupped_df = dataset[dataset.date == date]\n",
    "    groupped_df = groupped_df.set_index('time', drop=True)\n",
    "    groupped_df = groupped_df.sort_values('time', axis = 0)\n",
    "\n",
    "    groupped_df['date'] = pd.to_datetime(groupped_df.date, format='%Y-%m-%d')    \n",
    "    \n",
    "    groupped_df.drop(kwargs['drop_features'], axis = 1, inplace = True)    \n",
    "    \n",
    "    # Разбиваем день на интервалы заданной длительности\n",
    "    groupped_df['time_group'] = (groupped_df.assign(timestamp=groupped_df['time_from_timestamp']\\\n",
    "                                                    .dt.floor(kwargs['interval']))\n",
    "           .groupby(pd.Grouper(key='time_from_timestamp',freq=kwargs['interval']))\n",
    "           .ngroup())\n",
    "    \n",
    "\n",
    "    groupped_df = groupped_df.groupby('time_group', as_index=False)\\\n",
    "    .agg({'event' : 'count',\n",
    "          'date' : 'first'})\n",
    "    \n",
    "    # дополняем день до требуемого количества интервалов\n",
    "    # rewrite, to use not custom amount of intervals\n",
    "    ideal_series = pd.DataFrame(data = np.arange(0,288), columns = ['ideal_timesplit'])\n",
    "    \n",
    "    groupped_df = groupped_df.merge(ideal_series,\n",
    "                                                  how = 'right' ,\n",
    "                                                  left_on='time_group', \n",
    "                                                  right_on='ideal_timesplit')\n",
    "    \n",
    "    # заполним пропуски, т.к. они могли появится при доведении дня до нужного количества итервалов\n",
    "    groupped_df.time_group.fillna(groupped_df['ideal_timesplit'], inplace = True)\n",
    "    groupped_df.date.fillna(groupped_df.date.iloc[0], inplace = True)\n",
    "    groupped_df.event.fillna(0, inplace = True)\n",
    "    \n",
    "    # добавляем интервалы в отдельную колонку, так удобнее анализировать\n",
    "    groupped_df['time_period'] = pd.to_datetime((groupped_df.time_group * 5), unit = 'm').dt.strftime('%H:%M')\n",
    "    \n",
    "    groupped_df.drop('ideal_timesplit', axis = 1, inplace = True)\n",
    "    \n",
    "    groupped_df = groupped_df.sort_values('time_group')\n",
    "\n",
    "    return groupped_df"
   ]
  },
  {
   "cell_type": "code",
   "execution_count": 66,
   "metadata": {},
   "outputs": [],
   "source": [
    "# инвертируем разности\n",
    "def inverse_difference(history, yhat, interval=1):\n",
    "    # print(history[-interval])\n",
    "    return yhat + history[-interval]"
   ]
  },
  {
   "cell_type": "code",
   "execution_count": 67,
   "metadata": {},
   "outputs": [],
   "source": [
    "def check_day(df_train, df_test, threshold):\n",
    "    # prepare data to use in arima\n",
    "    train = df_train\n",
    "    traind_diff = np.array(df_train.event.diff()[1:])\n",
    "    test = df_test.event\n",
    "\n",
    "    # fit model\n",
    "    model = ARIMA(traind_diff, order=(6,0,1))\n",
    "    model_fit = model.fit(disp=0)\n",
    "\n",
    "    # predict\n",
    "    start_index = len(traind_diff)\n",
    "    end_index = start_index + len(test)-1\n",
    "    forecast = model_fit.predict(start=start_index, end=end_index)\n",
    "    # print(start_index, end_index)\n",
    "\n",
    "    history = train.event.to_list()\n",
    "    predicts = []\n",
    "\n",
    "    for yhat in forecast:\n",
    "        inverted = inverse_difference(history, yhat, 288) # pay attention to 20\n",
    "        # print('Interval no %d: %f' % (no_interval, inverted)) no_interval+=1\n",
    "        history.append(inverted)\n",
    "        predicts.append(inverted)\n",
    "\n",
    "    df_test['predicts'] = np.round(pd.Series(predicts).astype(int))\n",
    "    # to look more ordered\n",
    "    df_test = df_test.reindex(sorted(day_groupped_test.columns), axis=1)\n",
    "    \n",
    "    predicts_std = day_groupped_test.predicts.std()\n",
    "    rmse = np.sqrt(mean_squared_error(df_test.event, df_test.predicts)) \n",
    "\n",
    "    # если метрика больше порога, то начинаем смотреть в какой интервал есть наибольшие различия\n",
    "    if rmse > threshold:\n",
    "\n",
    "        # выделяем интервалы больше порога, может по среднему от колонки\n",
    "        results = df_test[(df_test.event-df_test.predicts) > predicts_std]\n",
    "    else:\n",
    "        print(\"anyway look at these data\")\n",
    "        results = df_test[(df_test.event-df_test.predicts) > predicts_std]\n",
    "\n",
    "    return results, df_test, rmse"
   ]
  },
  {
   "cell_type": "code",
   "execution_count": 68,
   "metadata": {},
   "outputs": [],
   "source": [
    "# default is 5 min, if we want another interval, need to add more parameters for arima and pass it to dict\n",
    "dict_args = {'interval' : '5min', 'drop_features' : ['has_video', 'platform']}\n",
    "day_groupped_train = create_df(df, '2019-04-10', **dict_args)\n",
    "day_groupped_test = create_df(df, '2019-04-11', **dict_args)"
   ]
  },
  {
   "cell_type": "code",
   "execution_count": 69,
   "metadata": {},
   "outputs": [],
   "source": [
    "splash_data, result_df, rmse_metric = check_day(day_groupped_train, day_groupped_test, 11)"
   ]
  },
  {
   "cell_type": "code",
   "execution_count": 70,
   "metadata": {},
   "outputs": [
    {
     "name": "stdout",
     "output_type": "stream",
     "text": [
      "          date  event  predicts  time_group time_period\n",
      "114 2019-04-11     42        24         114       09:30\n",
      "118 2019-04-11    103        30         118       09:50\n",
      "119 2019-04-11    173        34         119       09:55\n",
      "120 2019-04-11     97        25         120       10:00\n",
      "121 2019-04-11    121        31         121       10:05\n"
     ]
    },
    {
     "data": {
      "text/plain": [
       "'RMSE is: 61.81'"
      ]
     },
     "execution_count": 70,
     "metadata": {},
     "output_type": "execute_result"
    }
   ],
   "source": [
    "print(splash_data.head())\n",
    "width = 2\n",
    "precision = 4\n",
    "value = rmse_metric\n",
    "f\"RMSE is: {value:{width}.{precision}}\""
   ]
  },
  {
   "cell_type": "markdown",
   "metadata": {},
   "source": [
    "Аналогично попробуем LSTM модель."
   ]
  },
  {
   "cell_type": "code",
   "execution_count": 71,
   "metadata": {},
   "outputs": [],
   "source": [
    "# auxiliary function for preparing dateset\n",
    "# convert sequence to a supervised dataset\n",
    "def timeseries_to_supervised(data, lag=1):\n",
    "    df = pd.DataFrame(data)\n",
    "    columns = [df.shift(i) for i in range(1, lag+1)]\n",
    "    columns.append(df)\n",
    "    df = pd.concat(columns, axis=1)\n",
    "    df.fillna(0, inplace=True)\n",
    "    return df\n",
    "\n",
    "# scale train/test data\n",
    "def scale(train, test):\n",
    "    # fit scaler\n",
    "    scaler = MinMaxScaler(feature_range=(-1, 1))\n",
    "    scaler = scaler.fit(train)\n",
    "    # print(train.shape)\n",
    "    # transform train\n",
    "    train = train.reshape(train.shape[0], train.shape[1])\n",
    "    train_scaled = scaler.transform(train)\n",
    "    \n",
    "    # transform test\n",
    "    test = test.reshape(test.shape[0], test.shape[1])\n",
    "    test_scaled = scaler.transform(test)\n",
    "    \n",
    "    return scaler, train_scaled, test_scaled\n",
    "\n",
    "# инвертируем обратно значения\n",
    "def invert_scale(scaler, X, value):\n",
    "    new_row = [x for x in X] + [value]\n",
    "    array = np.array(new_row)\n",
    "    array = array.reshape(1, len(array))\n",
    "    inverted = scaler.inverse_transform(array)\n",
    "    return inverted[0, -1]\n",
    "\n",
    "# создаем рекуррентную lstm модель\n",
    "def fit_lstm(train, test, batch_size, nb_epoch, input_dim):\n",
    "    x_train, y_train = train[:, 0:-1], train[:, 1]\n",
    "    x_train = x_train.reshape(x_train.shape[0], 1, x_train.shape[1])\n",
    "    \n",
    "    x_test, y_test = test[:, 0:-1], test[:, 1]\n",
    "    x_test = x_test.reshape(x_test.shape[0], 1, x_test.shape[1])\n",
    "    \n",
    "    model = Sequential()\n",
    "    model.add(LSTM(input_dim, batch_input_shape=(batch_size, x_train.shape[1], x_train.shape[2]), stateful=True))\n",
    "    model.add(Dense(1))\n",
    "    model.compile(loss='mean_squared_error', optimizer='adam')\n",
    "    model.summary()\n",
    "\n",
    "\n",
    "    earlyStopping = EarlyStopping(monitor='val_loss', patience=50, verbose=2, mode='min',\n",
    "                                  restore_best_weights=True) # ,min_delta=0.001)\n",
    "    \n",
    "    history_model = model.fit(x_train, y_train,                   \n",
    "                              batch_size=batch_size, \n",
    "                              epochs=nb_epoch, \n",
    "                              validation_data = (x_test, y_test), \n",
    "                              verbose = 0,\n",
    "                              callbacks=[earlyStopping])\n",
    "    return model, history_model"
   ]
  },
  {
   "cell_type": "code",
   "execution_count": 72,
   "metadata": {},
   "outputs": [],
   "source": [
    "def check_day_lstm(df_train, df_test, threshold):\n",
    "    # prepare data to use in arima\n",
    "    train_values = df_train.event.values\n",
    "    train_supervised_values = timeseries_to_supervised(train_values, 1).values\n",
    "\n",
    "    test_values = df_test.event.values\n",
    "    test_supervised_values = timeseries_to_supervised(test_values, 1).values\n",
    "\n",
    "    # transform the scale of the data\n",
    "    scaler, train_scaled_lstm, test_scaled_lstm = scale(train_supervised_values, test_supervised_values)\n",
    "    \n",
    "    # fit the model \n",
    "    # dataset, batch,Epoch,Neurons\n",
    "    lstm_model, model_history = fit_lstm(train_scaled_lstm, test_scaled_lstm, 1, 300 , 4)\n",
    "    \n",
    "    # walk-forward validation on the test data\n",
    "    predictions = np.array([])\n",
    "\n",
    "    for i in range(len(test_scaled_lstm)):\n",
    "        #make one-step forecast\n",
    "        item = test_scaled_lstm[i, 0:-1]\n",
    "        X = item.reshape(1, 1, len(item))\n",
    "        yhat = lstm_model.predict(X)\n",
    "    \n",
    "        # invert scaling\n",
    "        yhat = invert_scale(scaler, X, yhat)\n",
    "        predictions = np.append(predictions, yhat)\n",
    "\n",
    "    df_test['predicts'] = np.round(pd.Series(predictions).astype(int))\n",
    "    # to look more ordered\n",
    "    df_test = df_test.reindex(sorted(day_groupped_test.columns), axis=1)\n",
    "    \n",
    "    predicts_std = day_groupped_test.predicts.std()\n",
    "    rmse = np.sqrt(mean_squared_error(df_test.event, df_test.predicts)) \n",
    "\n",
    "    # если метрика больше порога, то начинаем смотреть в какой интервал есть наибольшие различия\n",
    "    if rmse > threshold:\n",
    "\n",
    "        # выделяем интервалы больше порога, может по среднему от колонки\n",
    "        results = df_test[(df_test.event-df_test.predicts) > predicts_std]\n",
    "    else:\n",
    "        print(\"anyway look at these data\")\n",
    "        results = df_test[(df_test.event-df_test.predicts) > predicts_std]\n",
    "\n",
    "    return results, df_test, rmse"
   ]
  },
  {
   "cell_type": "code",
   "execution_count": 73,
   "metadata": {},
   "outputs": [
    {
     "name": "stdout",
     "output_type": "stream",
     "text": [
      "WARNING:tensorflow:From C:\\Anaconda\\lib\\site-packages\\tensorflow\\python\\framework\\op_def_library.py:263: colocate_with (from tensorflow.python.framework.ops) is deprecated and will be removed in a future version.\n",
      "Instructions for updating:\n",
      "Colocations handled automatically by placer.\n",
      "_________________________________________________________________\n",
      "Layer (type)                 Output Shape              Param #   \n",
      "=================================================================\n",
      "lstm_1 (LSTM)                (1, 4)                    96        \n",
      "_________________________________________________________________\n",
      "dense_1 (Dense)              (1, 1)                    5         \n",
      "=================================================================\n",
      "Total params: 101\n",
      "Trainable params: 101\n",
      "Non-trainable params: 0\n",
      "_________________________________________________________________\n",
      "WARNING:tensorflow:From C:\\Anaconda\\lib\\site-packages\\tensorflow\\python\\ops\\math_ops.py:3066: to_int32 (from tensorflow.python.ops.math_ops) is deprecated and will be removed in a future version.\n",
      "Instructions for updating:\n",
      "Use tf.cast instead.\n",
      "Restoring model weights from the end of the best epoch\n",
      "Epoch 00137: early stopping\n"
     ]
    }
   ],
   "source": [
    "splash_data, result_df, rmse_metric = check_day_lstm(day_groupped_train, day_groupped_test, 11)"
   ]
  },
  {
   "cell_type": "code",
   "execution_count": 74,
   "metadata": {},
   "outputs": [
    {
     "name": "stdout",
     "output_type": "stream",
     "text": [
      "          date  event  predicts  time_group time_period\n",
      "118 2019-04-11    103        32         118       09:50\n",
      "119 2019-04-11    173        72         119       09:55\n",
      "121 2019-04-11    121        69         121       10:05\n",
      "122 2019-04-11    181        72         122       10:10\n",
      "123 2019-04-11    225        76         123       10:15\n"
     ]
    },
    {
     "data": {
      "text/plain": [
       "'RMSE is: 36.91'"
      ]
     },
     "execution_count": 74,
     "metadata": {},
     "output_type": "execute_result"
    }
   ],
   "source": [
    "print(splash_data.head())\n",
    "width = 2\n",
    "precision = 4\n",
    "value = rmse_metric\n",
    "f\"RMSE is: {value:{width}.{precision}}\""
   ]
  },
  {
   "cell_type": "markdown",
   "metadata": {},
   "source": [
    "Выводы.\n",
    "Как видно из результатов, LSTM модель работает лучше и дает более точные предсказания (исходя из сравнения по метрике).\n",
    "\n",
    "Следовательно эта модель должна лучше подойти для того, чтобы прогнозировать всплески."
   ]
  },
  {
   "cell_type": "code",
   "execution_count": null,
   "metadata": {},
   "outputs": [],
   "source": []
  }
 ],
 "metadata": {
  "kernelspec": {
   "display_name": "Python 3",
   "language": "python",
   "name": "python3"
  },
  "language_info": {
   "codemirror_mode": {
    "name": "ipython",
    "version": 3
   },
   "file_extension": ".py",
   "mimetype": "text/x-python",
   "name": "python",
   "nbconvert_exporter": "python",
   "pygments_lexer": "ipython3",
   "version": "3.6.8"
  }
 },
 "nbformat": 4,
 "nbformat_minor": 2
}
